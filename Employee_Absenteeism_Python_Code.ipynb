{
 "cells": [
  {
   "cell_type": "code",
   "execution_count": 1,
   "metadata": {},
   "outputs": [],
   "source": [
    "import os\n",
    "import pandas as pd\n",
    "import numpy as np\n",
    "import matplotlib as mlt\n",
    "import seaborn as sn"
   ]
  },
  {
   "cell_type": "code",
   "execution_count": 2,
   "metadata": {},
   "outputs": [
    {
     "name": "stdout",
     "output_type": "stream",
     "text": [
      "Data read Successfully\n"
     ]
    }
   ],
   "source": [
    "#Extracting Data\n",
    "EmpAbs_data = pd.read_excel(\"Absenteeism_at_work_Project.xls\")\n",
    "print(\"Data read Successfully\")"
   ]
  },
  {
   "cell_type": "code",
   "execution_count": 3,
   "metadata": {},
   "outputs": [],
   "source": [
    "EmpAbs_data = EmpAbs_data.reset_index(drop=True)\n",
    "EmpAbs_data.index += 1\n",
    "Data = EmpAbs_data"
   ]
  },
  {
   "cell_type": "code",
   "execution_count": 4,
   "metadata": {},
   "outputs": [],
   "source": [
    "#Converting variables to categoric and numeric\n",
    "a= list(range(1, 5, 1))\n",
    "b= list(range(11, 17, 1))\n",
    "c=list(set().union(a,b))\n",
    "for i in c:\n",
    "    Data.iloc[:, i] = Data.iloc[:, i].astype('category')\n",
    "\n",
    "\n",
    "Data.iloc[:, 0] = Data.iloc[:, 0].astype(object)\n",
    "Data.iloc[:, 13] = Data.iloc[:, 13].astype('float64')\n",
    "Data.iloc[:, 16] = Data.iloc[:, 16].astype('float64')"
   ]
  },
  {
   "cell_type": "code",
   "execution_count": 86,
   "metadata": {
    "scrolled": false
   },
   "outputs": [
    {
     "data": {
      "text/html": [
       "<div>\n",
       "<style scoped>\n",
       "    .dataframe tbody tr th:only-of-type {\n",
       "        vertical-align: middle;\n",
       "    }\n",
       "\n",
       "    .dataframe tbody tr th {\n",
       "        vertical-align: top;\n",
       "    }\n",
       "\n",
       "    .dataframe thead th {\n",
       "        text-align: right;\n",
       "    }\n",
       "</style>\n",
       "<table border=\"1\" class=\"dataframe\">\n",
       "  <thead>\n",
       "    <tr style=\"text-align: right;\">\n",
       "      <th></th>\n",
       "      <th>Work_load_Average_day</th>\n",
       "      <th>Hit_target</th>\n",
       "      <th>Disciplinary_failure</th>\n",
       "      <th>Education</th>\n",
       "      <th>Son</th>\n",
       "      <th>Social_drinker</th>\n",
       "      <th>Social_smoker</th>\n",
       "      <th>Pet</th>\n",
       "      <th>Weight</th>\n",
       "      <th>Height</th>\n",
       "      <th>Absenteeism_time_in_hours</th>\n",
       "    </tr>\n",
       "  </thead>\n",
       "  <tbody>\n",
       "    <tr>\n",
       "      <th>1</th>\n",
       "      <td>0.244925</td>\n",
       "      <td>0.769231</td>\n",
       "      <td>0.0</td>\n",
       "      <td>1.0</td>\n",
       "      <td>0.50</td>\n",
       "      <td>1.0</td>\n",
       "      <td>0.0</td>\n",
       "      <td>0.5</td>\n",
       "      <td>0.653846</td>\n",
       "      <td>0.700000</td>\n",
       "      <td>4.0</td>\n",
       "    </tr>\n",
       "    <tr>\n",
       "      <th>2</th>\n",
       "      <td>0.244925</td>\n",
       "      <td>0.769231</td>\n",
       "      <td>1.0</td>\n",
       "      <td>1.0</td>\n",
       "      <td>0.25</td>\n",
       "      <td>1.0</td>\n",
       "      <td>0.0</td>\n",
       "      <td>0.0</td>\n",
       "      <td>0.807692</td>\n",
       "      <td>0.512859</td>\n",
       "      <td>0.0</td>\n",
       "    </tr>\n",
       "    <tr>\n",
       "      <th>3</th>\n",
       "      <td>0.244925</td>\n",
       "      <td>0.769231</td>\n",
       "      <td>0.0</td>\n",
       "      <td>1.0</td>\n",
       "      <td>0.00</td>\n",
       "      <td>1.0</td>\n",
       "      <td>0.0</td>\n",
       "      <td>0.0</td>\n",
       "      <td>0.634615</td>\n",
       "      <td>0.500000</td>\n",
       "      <td>2.0</td>\n",
       "    </tr>\n",
       "    <tr>\n",
       "      <th>4</th>\n",
       "      <td>0.244925</td>\n",
       "      <td>0.769231</td>\n",
       "      <td>0.0</td>\n",
       "      <td>1.0</td>\n",
       "      <td>0.50</td>\n",
       "      <td>1.0</td>\n",
       "      <td>1.0</td>\n",
       "      <td>0.0</td>\n",
       "      <td>0.230769</td>\n",
       "      <td>0.300000</td>\n",
       "      <td>4.0</td>\n",
       "    </tr>\n",
       "    <tr>\n",
       "      <th>5</th>\n",
       "      <td>0.244925</td>\n",
       "      <td>0.769231</td>\n",
       "      <td>0.0</td>\n",
       "      <td>1.0</td>\n",
       "      <td>0.50</td>\n",
       "      <td>1.0</td>\n",
       "      <td>0.0</td>\n",
       "      <td>0.5</td>\n",
       "      <td>0.653846</td>\n",
       "      <td>0.700000</td>\n",
       "      <td>2.0</td>\n",
       "    </tr>\n",
       "  </tbody>\n",
       "</table>\n",
       "</div>"
      ],
      "text/plain": [
       "   Work_load_Average_day  Hit_target Disciplinary_failure Education   Son  \\\n",
       "1               0.244925    0.769231                  0.0       1.0  0.50   \n",
       "2               0.244925    0.769231                  1.0       1.0  0.25   \n",
       "3               0.244925    0.769231                  0.0       1.0  0.00   \n",
       "4               0.244925    0.769231                  0.0       1.0  0.50   \n",
       "5               0.244925    0.769231                  0.0       1.0  0.50   \n",
       "\n",
       "  Social_drinker Social_smoker  Pet    Weight    Height  \\\n",
       "1            1.0           0.0  0.5  0.653846  0.700000   \n",
       "2            1.0           0.0  0.0  0.807692  0.512859   \n",
       "3            1.0           0.0  0.0  0.634615  0.500000   \n",
       "4            1.0           1.0  0.0  0.230769  0.300000   \n",
       "5            1.0           0.0  0.5  0.653846  0.700000   \n",
       "\n",
       "   Absenteeism_time_in_hours  \n",
       "1                        4.0  \n",
       "2                        0.0  \n",
       "3                        2.0  \n",
       "4                        4.0  \n",
       "5                        2.0  "
      ]
     },
     "execution_count": 86,
     "metadata": {},
     "output_type": "execute_result"
    }
   ],
   "source": [
    "Data.iloc[:5,9:21]"
   ]
  },
  {
   "cell_type": "markdown",
   "metadata": {},
   "source": [
    "# Missing Values Analysis"
   ]
  },
  {
   "cell_type": "code",
   "execution_count": 5,
   "metadata": {},
   "outputs": [
    {
     "data": {
      "text/html": [
       "<div>\n",
       "<style scoped>\n",
       "    .dataframe tbody tr th:only-of-type {\n",
       "        vertical-align: middle;\n",
       "    }\n",
       "\n",
       "    .dataframe tbody tr th {\n",
       "        vertical-align: top;\n",
       "    }\n",
       "\n",
       "    .dataframe thead th {\n",
       "        text-align: right;\n",
       "    }\n",
       "</style>\n",
       "<table border=\"1\" class=\"dataframe\">\n",
       "  <thead>\n",
       "    <tr style=\"text-align: right;\">\n",
       "      <th></th>\n",
       "      <th>Variables</th>\n",
       "      <th>Missing_Values_Count</th>\n",
       "    </tr>\n",
       "  </thead>\n",
       "  <tbody>\n",
       "    <tr>\n",
       "      <th>0</th>\n",
       "      <td>Body_mass_index</td>\n",
       "      <td>31</td>\n",
       "    </tr>\n",
       "    <tr>\n",
       "      <th>1</th>\n",
       "      <td>Absenteeism_time_in_hours</td>\n",
       "      <td>22</td>\n",
       "    </tr>\n",
       "    <tr>\n",
       "      <th>2</th>\n",
       "      <td>Height</td>\n",
       "      <td>14</td>\n",
       "    </tr>\n",
       "    <tr>\n",
       "      <th>3</th>\n",
       "      <td>Work_load_Average_day</td>\n",
       "      <td>10</td>\n",
       "    </tr>\n",
       "    <tr>\n",
       "      <th>4</th>\n",
       "      <td>Education</td>\n",
       "      <td>10</td>\n",
       "    </tr>\n",
       "    <tr>\n",
       "      <th>5</th>\n",
       "      <td>Transportation_expense</td>\n",
       "      <td>7</td>\n",
       "    </tr>\n",
       "    <tr>\n",
       "      <th>6</th>\n",
       "      <td>Son</td>\n",
       "      <td>6</td>\n",
       "    </tr>\n",
       "    <tr>\n",
       "      <th>7</th>\n",
       "      <td>Disciplinary_failure</td>\n",
       "      <td>6</td>\n",
       "    </tr>\n",
       "    <tr>\n",
       "      <th>8</th>\n",
       "      <td>Hit_target</td>\n",
       "      <td>6</td>\n",
       "    </tr>\n",
       "    <tr>\n",
       "      <th>9</th>\n",
       "      <td>Social_smoker</td>\n",
       "      <td>4</td>\n",
       "    </tr>\n",
       "    <tr>\n",
       "      <th>10</th>\n",
       "      <td>Age</td>\n",
       "      <td>3</td>\n",
       "    </tr>\n",
       "    <tr>\n",
       "      <th>11</th>\n",
       "      <td>Reason_for_absence</td>\n",
       "      <td>3</td>\n",
       "    </tr>\n",
       "    <tr>\n",
       "      <th>12</th>\n",
       "      <td>Service_time</td>\n",
       "      <td>3</td>\n",
       "    </tr>\n",
       "    <tr>\n",
       "      <th>13</th>\n",
       "      <td>Distance_from_Residence_to_Work</td>\n",
       "      <td>3</td>\n",
       "    </tr>\n",
       "    <tr>\n",
       "      <th>14</th>\n",
       "      <td>Social_drinker</td>\n",
       "      <td>3</td>\n",
       "    </tr>\n",
       "    <tr>\n",
       "      <th>15</th>\n",
       "      <td>Pet</td>\n",
       "      <td>2</td>\n",
       "    </tr>\n",
       "    <tr>\n",
       "      <th>16</th>\n",
       "      <td>Weight</td>\n",
       "      <td>1</td>\n",
       "    </tr>\n",
       "    <tr>\n",
       "      <th>17</th>\n",
       "      <td>Month_of_absence</td>\n",
       "      <td>1</td>\n",
       "    </tr>\n",
       "    <tr>\n",
       "      <th>18</th>\n",
       "      <td>Seasons</td>\n",
       "      <td>0</td>\n",
       "    </tr>\n",
       "    <tr>\n",
       "      <th>19</th>\n",
       "      <td>Day_of_the_week</td>\n",
       "      <td>0</td>\n",
       "    </tr>\n",
       "    <tr>\n",
       "      <th>20</th>\n",
       "      <td>ID</td>\n",
       "      <td>0</td>\n",
       "    </tr>\n",
       "  </tbody>\n",
       "</table>\n",
       "</div>"
      ],
      "text/plain": [
       "                          Variables  Missing_Values_Count\n",
       "0                   Body_mass_index                    31\n",
       "1         Absenteeism_time_in_hours                    22\n",
       "2                            Height                    14\n",
       "3             Work_load_Average_day                    10\n",
       "4                         Education                    10\n",
       "5            Transportation_expense                     7\n",
       "6                               Son                     6\n",
       "7              Disciplinary_failure                     6\n",
       "8                        Hit_target                     6\n",
       "9                     Social_smoker                     4\n",
       "10                              Age                     3\n",
       "11               Reason_for_absence                     3\n",
       "12                     Service_time                     3\n",
       "13  Distance_from_Residence_to_Work                     3\n",
       "14                   Social_drinker                     3\n",
       "15                              Pet                     2\n",
       "16                           Weight                     1\n",
       "17                 Month_of_absence                     1\n",
       "18                          Seasons                     0\n",
       "19                  Day_of_the_week                     0\n",
       "20                               ID                     0"
      ]
     },
     "execution_count": 5,
     "metadata": {},
     "output_type": "execute_result"
    }
   ],
   "source": [
    "#Missing value analysis\n",
    "missing_val = pd.DataFrame(Data.isnull().sum())\n",
    "missing_val = missing_val.reset_index()\n",
    "missing_val = missing_val.rename(columns = { 'index': 'Variables', 0: 'Missing_Values_Count'})\n",
    "missing_val = missing_val.sort_values('Missing_Values_Count', ascending = False).reset_index(drop = True)\n",
    "missing_val"
   ]
  },
  {
   "cell_type": "code",
   "execution_count": null,
   "metadata": {},
   "outputs": [],
   "source": [
    "Data1 = Data[Data.isnull().any(axis=1)]\n",
    "Data1"
   ]
  },
  {
   "cell_type": "code",
   "execution_count": 6,
   "metadata": {},
   "outputs": [],
   "source": [
    "#Creating a new Dataframe by data types\n",
    "Data_num=Data.select_dtypes(['float64'])\n",
    "Data_cat=Data.select_dtypes(['category'])\n",
    "Data_num = Data_num.reset_index(drop=True)\n",
    "Data_num.index += 1\n",
    "Data_cat = Data_cat.reset_index(drop=True)\n",
    "Data_cat.index += 1"
   ]
  },
  {
   "cell_type": "code",
   "execution_count": 164,
   "metadata": {},
   "outputs": [
    {
     "data": {
      "text/html": [
       "<div>\n",
       "<style scoped>\n",
       "    .dataframe tbody tr th:only-of-type {\n",
       "        vertical-align: middle;\n",
       "    }\n",
       "\n",
       "    .dataframe tbody tr th {\n",
       "        vertical-align: top;\n",
       "    }\n",
       "\n",
       "    .dataframe thead th {\n",
       "        text-align: right;\n",
       "    }\n",
       "</style>\n",
       "<table border=\"1\" class=\"dataframe\">\n",
       "  <thead>\n",
       "    <tr style=\"text-align: right;\">\n",
       "      <th></th>\n",
       "      <th>Transportation_expense</th>\n",
       "      <th>Distance_from_Residence_to_Work</th>\n",
       "      <th>Service_time</th>\n",
       "      <th>Age</th>\n",
       "      <th>Work_load_Average_day</th>\n",
       "      <th>Hit_target</th>\n",
       "      <th>Son</th>\n",
       "      <th>Pet</th>\n",
       "      <th>Weight</th>\n",
       "      <th>Height</th>\n",
       "      <th>Body_mass_index</th>\n",
       "      <th>Absenteeism_time_in_hours</th>\n",
       "    </tr>\n",
       "  </thead>\n",
       "  <tbody>\n",
       "    <tr>\n",
       "      <th>1</th>\n",
       "      <td>289.0</td>\n",
       "      <td>36.0</td>\n",
       "      <td>13.0</td>\n",
       "      <td>33.0</td>\n",
       "      <td>239554.0</td>\n",
       "      <td>97.0</td>\n",
       "      <td>2.0</td>\n",
       "      <td>1.0</td>\n",
       "      <td>90.0</td>\n",
       "      <td>172.0</td>\n",
       "      <td>30.0</td>\n",
       "      <td>4.0</td>\n",
       "    </tr>\n",
       "    <tr>\n",
       "      <th>2</th>\n",
       "      <td>118.0</td>\n",
       "      <td>13.0</td>\n",
       "      <td>18.0</td>\n",
       "      <td>50.0</td>\n",
       "      <td>239554.0</td>\n",
       "      <td>97.0</td>\n",
       "      <td>1.0</td>\n",
       "      <td>0.0</td>\n",
       "      <td>98.0</td>\n",
       "      <td>178.0</td>\n",
       "      <td>31.0</td>\n",
       "      <td>0.0</td>\n",
       "    </tr>\n",
       "    <tr>\n",
       "      <th>3</th>\n",
       "      <td>179.0</td>\n",
       "      <td>51.0</td>\n",
       "      <td>18.0</td>\n",
       "      <td>38.0</td>\n",
       "      <td>239554.0</td>\n",
       "      <td>97.0</td>\n",
       "      <td>0.0</td>\n",
       "      <td>0.0</td>\n",
       "      <td>89.0</td>\n",
       "      <td>170.0</td>\n",
       "      <td>31.0</td>\n",
       "      <td>2.0</td>\n",
       "    </tr>\n",
       "    <tr>\n",
       "      <th>4</th>\n",
       "      <td>279.0</td>\n",
       "      <td>5.0</td>\n",
       "      <td>14.0</td>\n",
       "      <td>39.0</td>\n",
       "      <td>239554.0</td>\n",
       "      <td>97.0</td>\n",
       "      <td>2.0</td>\n",
       "      <td>0.0</td>\n",
       "      <td>68.0</td>\n",
       "      <td>168.0</td>\n",
       "      <td>24.0</td>\n",
       "      <td>4.0</td>\n",
       "    </tr>\n",
       "    <tr>\n",
       "      <th>5</th>\n",
       "      <td>289.0</td>\n",
       "      <td>36.0</td>\n",
       "      <td>13.0</td>\n",
       "      <td>33.0</td>\n",
       "      <td>239554.0</td>\n",
       "      <td>97.0</td>\n",
       "      <td>2.0</td>\n",
       "      <td>1.0</td>\n",
       "      <td>90.0</td>\n",
       "      <td>172.0</td>\n",
       "      <td>30.0</td>\n",
       "      <td>2.0</td>\n",
       "    </tr>\n",
       "  </tbody>\n",
       "</table>\n",
       "</div>"
      ],
      "text/plain": [
       "   Transportation_expense  Distance_from_Residence_to_Work  Service_time  \\\n",
       "1                   289.0                             36.0          13.0   \n",
       "2                   118.0                             13.0          18.0   \n",
       "3                   179.0                             51.0          18.0   \n",
       "4                   279.0                              5.0          14.0   \n",
       "5                   289.0                             36.0          13.0   \n",
       "\n",
       "    Age  Work_load_Average_day  Hit_target  Son  Pet  Weight  Height  \\\n",
       "1  33.0               239554.0        97.0  2.0  1.0    90.0   172.0   \n",
       "2  50.0               239554.0        97.0  1.0  0.0    98.0   178.0   \n",
       "3  38.0               239554.0        97.0  0.0  0.0    89.0   170.0   \n",
       "4  39.0               239554.0        97.0  2.0  0.0    68.0   168.0   \n",
       "5  33.0               239554.0        97.0  2.0  1.0    90.0   172.0   \n",
       "\n",
       "   Body_mass_index  Absenteeism_time_in_hours  \n",
       "1             30.0                        4.0  \n",
       "2             31.0                        0.0  \n",
       "3             31.0                        2.0  \n",
       "4             24.0                        4.0  \n",
       "5             30.0                        2.0  "
      ]
     },
     "execution_count": 164,
     "metadata": {},
     "output_type": "execute_result"
    }
   ],
   "source": [
    "Data_num.head(5)"
   ]
  },
  {
   "cell_type": "code",
   "execution_count": 165,
   "metadata": {},
   "outputs": [
    {
     "data": {
      "text/html": [
       "<div>\n",
       "<style scoped>\n",
       "    .dataframe tbody tr th:only-of-type {\n",
       "        vertical-align: middle;\n",
       "    }\n",
       "\n",
       "    .dataframe tbody tr th {\n",
       "        vertical-align: top;\n",
       "    }\n",
       "\n",
       "    .dataframe thead th {\n",
       "        text-align: right;\n",
       "    }\n",
       "</style>\n",
       "<table border=\"1\" class=\"dataframe\">\n",
       "  <thead>\n",
       "    <tr style=\"text-align: right;\">\n",
       "      <th></th>\n",
       "      <th>Reason_for_absence</th>\n",
       "      <th>Month_of_absence</th>\n",
       "      <th>Day_of_the_week</th>\n",
       "      <th>Seasons</th>\n",
       "      <th>Disciplinary_failure</th>\n",
       "      <th>Education</th>\n",
       "      <th>Social_drinker</th>\n",
       "      <th>Social_smoker</th>\n",
       "    </tr>\n",
       "  </thead>\n",
       "  <tbody>\n",
       "    <tr>\n",
       "      <th>1</th>\n",
       "      <td>26.0</td>\n",
       "      <td>7.0</td>\n",
       "      <td>3</td>\n",
       "      <td>1</td>\n",
       "      <td>0.0</td>\n",
       "      <td>1.0</td>\n",
       "      <td>1.0</td>\n",
       "      <td>0.0</td>\n",
       "    </tr>\n",
       "    <tr>\n",
       "      <th>2</th>\n",
       "      <td>0.0</td>\n",
       "      <td>7.0</td>\n",
       "      <td>3</td>\n",
       "      <td>1</td>\n",
       "      <td>1.0</td>\n",
       "      <td>1.0</td>\n",
       "      <td>1.0</td>\n",
       "      <td>0.0</td>\n",
       "    </tr>\n",
       "    <tr>\n",
       "      <th>3</th>\n",
       "      <td>23.0</td>\n",
       "      <td>7.0</td>\n",
       "      <td>4</td>\n",
       "      <td>1</td>\n",
       "      <td>0.0</td>\n",
       "      <td>1.0</td>\n",
       "      <td>1.0</td>\n",
       "      <td>0.0</td>\n",
       "    </tr>\n",
       "    <tr>\n",
       "      <th>4</th>\n",
       "      <td>7.0</td>\n",
       "      <td>7.0</td>\n",
       "      <td>5</td>\n",
       "      <td>1</td>\n",
       "      <td>0.0</td>\n",
       "      <td>1.0</td>\n",
       "      <td>1.0</td>\n",
       "      <td>1.0</td>\n",
       "    </tr>\n",
       "    <tr>\n",
       "      <th>5</th>\n",
       "      <td>23.0</td>\n",
       "      <td>7.0</td>\n",
       "      <td>5</td>\n",
       "      <td>1</td>\n",
       "      <td>0.0</td>\n",
       "      <td>1.0</td>\n",
       "      <td>1.0</td>\n",
       "      <td>0.0</td>\n",
       "    </tr>\n",
       "  </tbody>\n",
       "</table>\n",
       "</div>"
      ],
      "text/plain": [
       "  Reason_for_absence Month_of_absence Day_of_the_week Seasons  \\\n",
       "1               26.0              7.0               3       1   \n",
       "2                0.0              7.0               3       1   \n",
       "3               23.0              7.0               4       1   \n",
       "4                7.0              7.0               5       1   \n",
       "5               23.0              7.0               5       1   \n",
       "\n",
       "  Disciplinary_failure Education Social_drinker Social_smoker  \n",
       "1                  0.0       1.0            1.0           0.0  \n",
       "2                  1.0       1.0            1.0           0.0  \n",
       "3                  0.0       1.0            1.0           0.0  \n",
       "4                  0.0       1.0            1.0           1.0  \n",
       "5                  0.0       1.0            1.0           0.0  "
      ]
     },
     "execution_count": 165,
     "metadata": {},
     "output_type": "execute_result"
    }
   ],
   "source": [
    "Data_cat.head(5)"
   ]
  },
  {
   "cell_type": "markdown",
   "metadata": {},
   "source": [
    "# Feature Selection"
   ]
  },
  {
   "cell_type": "code",
   "execution_count": 113,
   "metadata": {},
   "outputs": [
    {
     "data": {
      "text/html": [
       "<style  type=\"text/css\" >\n",
       "    #T_e208e3e4_cf87_11e9_b676_3ca82ab128d4row0_col0 {\n",
       "            background-color:  #023858;\n",
       "        }    #T_e208e3e4_cf87_11e9_b676_3ca82ab128d4row0_col1 {\n",
       "            background-color:  #86b0d3;\n",
       "        }    #T_e208e3e4_cf87_11e9_b676_3ca82ab128d4row0_col2 {\n",
       "            background-color:  #fff7fb;\n",
       "        }    #T_e208e3e4_cf87_11e9_b676_3ca82ab128d4row0_col3 {\n",
       "            background-color:  #f3edf5;\n",
       "        }    #T_e208e3e4_cf87_11e9_b676_3ca82ab128d4row0_col4 {\n",
       "            background-color:  #fef6fb;\n",
       "        }    #T_e208e3e4_cf87_11e9_b676_3ca82ab128d4row0_col5 {\n",
       "            background-color:  #fff7fb;\n",
       "        }    #T_e208e3e4_cf87_11e9_b676_3ca82ab128d4row0_col6 {\n",
       "            background-color:  #ede8f3;\n",
       "        }    #T_e208e3e4_cf87_11e9_b676_3ca82ab128d4row0_col7 {\n",
       "            background-color:  #fff7fb;\n",
       "        }    #T_e208e3e4_cf87_11e9_b676_3ca82ab128d4row0_col8 {\n",
       "            background-color:  #eae6f1;\n",
       "        }    #T_e208e3e4_cf87_11e9_b676_3ca82ab128d4row1_col0 {\n",
       "            background-color:  #88b1d4;\n",
       "        }    #T_e208e3e4_cf87_11e9_b676_3ca82ab128d4row1_col1 {\n",
       "            background-color:  #023858;\n",
       "        }    #T_e208e3e4_cf87_11e9_b676_3ca82ab128d4row1_col2 {\n",
       "            background-color:  #adc1dd;\n",
       "        }    #T_e208e3e4_cf87_11e9_b676_3ca82ab128d4row1_col3 {\n",
       "            background-color:  #fef6fa;\n",
       "        }    #T_e208e3e4_cf87_11e9_b676_3ca82ab128d4row1_col4 {\n",
       "            background-color:  #f5eef6;\n",
       "        }    #T_e208e3e4_cf87_11e9_b676_3ca82ab128d4row1_col5 {\n",
       "            background-color:  #eae6f1;\n",
       "        }    #T_e208e3e4_cf87_11e9_b676_3ca82ab128d4row1_col6 {\n",
       "            background-color:  #fff7fb;\n",
       "        }    #T_e208e3e4_cf87_11e9_b676_3ca82ab128d4row1_col7 {\n",
       "            background-color:  #d6d6e9;\n",
       "        }    #T_e208e3e4_cf87_11e9_b676_3ca82ab128d4row1_col8 {\n",
       "            background-color:  #fff7fb;\n",
       "        }    #T_e208e3e4_cf87_11e9_b676_3ca82ab128d4row2_col0 {\n",
       "            background-color:  #fff7fb;\n",
       "        }    #T_e208e3e4_cf87_11e9_b676_3ca82ab128d4row2_col1 {\n",
       "            background-color:  #acc0dd;\n",
       "        }    #T_e208e3e4_cf87_11e9_b676_3ca82ab128d4row2_col2 {\n",
       "            background-color:  #023858;\n",
       "        }    #T_e208e3e4_cf87_11e9_b676_3ca82ab128d4row2_col3 {\n",
       "            background-color:  #f1ebf5;\n",
       "        }    #T_e208e3e4_cf87_11e9_b676_3ca82ab128d4row2_col4 {\n",
       "            background-color:  #f4edf6;\n",
       "        }    #T_e208e3e4_cf87_11e9_b676_3ca82ab128d4row2_col5 {\n",
       "            background-color:  #5c9fc9;\n",
       "        }    #T_e208e3e4_cf87_11e9_b676_3ca82ab128d4row2_col6 {\n",
       "            background-color:  #d7d6e9;\n",
       "        }    #T_e208e3e4_cf87_11e9_b676_3ca82ab128d4row2_col7 {\n",
       "            background-color:  #569dc8;\n",
       "        }    #T_e208e3e4_cf87_11e9_b676_3ca82ab128d4row2_col8 {\n",
       "            background-color:  #efe9f3;\n",
       "        }    #T_e208e3e4_cf87_11e9_b676_3ca82ab128d4row3_col0 {\n",
       "            background-color:  #cdd0e5;\n",
       "        }    #T_e208e3e4_cf87_11e9_b676_3ca82ab128d4row3_col1 {\n",
       "            background-color:  #dad9ea;\n",
       "        }    #T_e208e3e4_cf87_11e9_b676_3ca82ab128d4row3_col2 {\n",
       "            background-color:  #cacee5;\n",
       "        }    #T_e208e3e4_cf87_11e9_b676_3ca82ab128d4row3_col3 {\n",
       "            background-color:  #023858;\n",
       "        }    #T_e208e3e4_cf87_11e9_b676_3ca82ab128d4row3_col4 {\n",
       "            background-color:  #fff7fb;\n",
       "        }    #T_e208e3e4_cf87_11e9_b676_3ca82ab128d4row3_col5 {\n",
       "            background-color:  #e7e3f0;\n",
       "        }    #T_e208e3e4_cf87_11e9_b676_3ca82ab128d4row3_col6 {\n",
       "            background-color:  #b0c2de;\n",
       "        }    #T_e208e3e4_cf87_11e9_b676_3ca82ab128d4row3_col7 {\n",
       "            background-color:  #f7f0f7;\n",
       "        }    #T_e208e3e4_cf87_11e9_b676_3ca82ab128d4row3_col8 {\n",
       "            background-color:  #ede8f3;\n",
       "        }    #T_e208e3e4_cf87_11e9_b676_3ca82ab128d4row4_col0 {\n",
       "            background-color:  #dbdaeb;\n",
       "        }    #T_e208e3e4_cf87_11e9_b676_3ca82ab128d4row4_col1 {\n",
       "            background-color:  #d0d1e6;\n",
       "        }    #T_e208e3e4_cf87_11e9_b676_3ca82ab128d4row4_col2 {\n",
       "            background-color:  #ced0e6;\n",
       "        }    #T_e208e3e4_cf87_11e9_b676_3ca82ab128d4row4_col3 {\n",
       "            background-color:  #fff7fb;\n",
       "        }    #T_e208e3e4_cf87_11e9_b676_3ca82ab128d4row4_col4 {\n",
       "            background-color:  #023858;\n",
       "        }    #T_e208e3e4_cf87_11e9_b676_3ca82ab128d4row4_col5 {\n",
       "            background-color:  #eae6f1;\n",
       "        }    #T_e208e3e4_cf87_11e9_b676_3ca82ab128d4row4_col6 {\n",
       "            background-color:  #b5c4df;\n",
       "        }    #T_e208e3e4_cf87_11e9_b676_3ca82ab128d4row4_col7 {\n",
       "            background-color:  #f7f0f7;\n",
       "        }    #T_e208e3e4_cf87_11e9_b676_3ca82ab128d4row4_col8 {\n",
       "            background-color:  #eee8f3;\n",
       "        }    #T_e208e3e4_cf87_11e9_b676_3ca82ab128d4row5_col0 {\n",
       "            background-color:  #f0eaf4;\n",
       "        }    #T_e208e3e4_cf87_11e9_b676_3ca82ab128d4row5_col1 {\n",
       "            background-color:  #d5d5e8;\n",
       "        }    #T_e208e3e4_cf87_11e9_b676_3ca82ab128d4row5_col2 {\n",
       "            background-color:  #4496c3;\n",
       "        }    #T_e208e3e4_cf87_11e9_b676_3ca82ab128d4row5_col3 {\n",
       "            background-color:  #f7f0f7;\n",
       "        }    #T_e208e3e4_cf87_11e9_b676_3ca82ab128d4row5_col4 {\n",
       "            background-color:  #faf2f8;\n",
       "        }    #T_e208e3e4_cf87_11e9_b676_3ca82ab128d4row5_col5 {\n",
       "            background-color:  #023858;\n",
       "        }    #T_e208e3e4_cf87_11e9_b676_3ca82ab128d4row5_col6 {\n",
       "            background-color:  #78abd0;\n",
       "        }    #T_e208e3e4_cf87_11e9_b676_3ca82ab128d4row5_col7 {\n",
       "            background-color:  #034e7b;\n",
       "        }    #T_e208e3e4_cf87_11e9_b676_3ca82ab128d4row5_col8 {\n",
       "            background-color:  #f2ecf5;\n",
       "        }    #T_e208e3e4_cf87_11e9_b676_3ca82ab128d4row6_col0 {\n",
       "            background-color:  #eee8f3;\n",
       "        }    #T_e208e3e4_cf87_11e9_b676_3ca82ab128d4row6_col1 {\n",
       "            background-color:  #fff7fb;\n",
       "        }    #T_e208e3e4_cf87_11e9_b676_3ca82ab128d4row6_col2 {\n",
       "            background-color:  #d8d7e9;\n",
       "        }    #T_e208e3e4_cf87_11e9_b676_3ca82ab128d4row6_col3 {\n",
       "            background-color:  #e0dded;\n",
       "        }    #T_e208e3e4_cf87_11e9_b676_3ca82ab128d4row6_col4 {\n",
       "            background-color:  #e4e1ef;\n",
       "        }    #T_e208e3e4_cf87_11e9_b676_3ca82ab128d4row6_col5 {\n",
       "            background-color:  #91b5d6;\n",
       "        }    #T_e208e3e4_cf87_11e9_b676_3ca82ab128d4row6_col6 {\n",
       "            background-color:  #023858;\n",
       "        }    #T_e208e3e4_cf87_11e9_b676_3ca82ab128d4row6_col7 {\n",
       "            background-color:  #fef6fb;\n",
       "        }    #T_e208e3e4_cf87_11e9_b676_3ca82ab128d4row6_col8 {\n",
       "            background-color:  #e0deed;\n",
       "        }    #T_e208e3e4_cf87_11e9_b676_3ca82ab128d4row7_col0 {\n",
       "            background-color:  #e5e1ef;\n",
       "        }    #T_e208e3e4_cf87_11e9_b676_3ca82ab128d4row7_col1 {\n",
       "            background-color:  #afc1dd;\n",
       "        }    #T_e208e3e4_cf87_11e9_b676_3ca82ab128d4row7_col2 {\n",
       "            background-color:  #348ebf;\n",
       "        }    #T_e208e3e4_cf87_11e9_b676_3ca82ab128d4row7_col3 {\n",
       "            background-color:  #fef6fa;\n",
       "        }    #T_e208e3e4_cf87_11e9_b676_3ca82ab128d4row7_col4 {\n",
       "            background-color:  #fdf5fa;\n",
       "        }    #T_e208e3e4_cf87_11e9_b676_3ca82ab128d4row7_col5 {\n",
       "            background-color:  #034d79;\n",
       "        }    #T_e208e3e4_cf87_11e9_b676_3ca82ab128d4row7_col6 {\n",
       "            background-color:  #e2dfee;\n",
       "        }    #T_e208e3e4_cf87_11e9_b676_3ca82ab128d4row7_col7 {\n",
       "            background-color:  #023858;\n",
       "        }    #T_e208e3e4_cf87_11e9_b676_3ca82ab128d4row7_col8 {\n",
       "            background-color:  #f9f2f8;\n",
       "        }    #T_e208e3e4_cf87_11e9_b676_3ca82ab128d4row8_col0 {\n",
       "            background-color:  #c1cae2;\n",
       "        }    #T_e208e3e4_cf87_11e9_b676_3ca82ab128d4row8_col1 {\n",
       "            background-color:  #dedcec;\n",
       "        }    #T_e208e3e4_cf87_11e9_b676_3ca82ab128d4row8_col2 {\n",
       "            background-color:  #c9cee4;\n",
       "        }    #T_e208e3e4_cf87_11e9_b676_3ca82ab128d4row8_col3 {\n",
       "            background-color:  #efe9f3;\n",
       "        }    #T_e208e3e4_cf87_11e9_b676_3ca82ab128d4row8_col4 {\n",
       "            background-color:  #f0eaf4;\n",
       "        }    #T_e208e3e4_cf87_11e9_b676_3ca82ab128d4row8_col5 {\n",
       "            background-color:  #e3e0ee;\n",
       "        }    #T_e208e3e4_cf87_11e9_b676_3ca82ab128d4row8_col6 {\n",
       "            background-color:  #b4c4df;\n",
       "        }    #T_e208e3e4_cf87_11e9_b676_3ca82ab128d4row8_col7 {\n",
       "            background-color:  #f5eef6;\n",
       "        }    #T_e208e3e4_cf87_11e9_b676_3ca82ab128d4row8_col8 {\n",
       "            background-color:  #023858;\n",
       "        }</style>  \n",
       "<table id=\"T_e208e3e4_cf87_11e9_b676_3ca82ab128d4\" > \n",
       "<thead>    <tr> \n",
       "        <th class=\"blank level0\" ></th> \n",
       "        <th class=\"col_heading level0 col0\" >Transportation_expense</th> \n",
       "        <th class=\"col_heading level0 col1\" >Distance_from_Residence_to_Work</th> \n",
       "        <th class=\"col_heading level0 col2\" >Service_time</th> \n",
       "        <th class=\"col_heading level0 col3\" >Work_load_Average_day</th> \n",
       "        <th class=\"col_heading level0 col4\" >Hit_target</th> \n",
       "        <th class=\"col_heading level0 col5\" >Weight</th> \n",
       "        <th class=\"col_heading level0 col6\" >Height</th> \n",
       "        <th class=\"col_heading level0 col7\" >Body_mass_index</th> \n",
       "        <th class=\"col_heading level0 col8\" >Absenteeism_time_in_hours</th> \n",
       "    </tr></thead> \n",
       "<tbody>    <tr> \n",
       "        <th id=\"T_e208e3e4_cf87_11e9_b676_3ca82ab128d4level0_row0\" class=\"row_heading level0 row0\" >Transportation_expense</th> \n",
       "        <td id=\"T_e208e3e4_cf87_11e9_b676_3ca82ab128d4row0_col0\" class=\"data row0 col0\" >1</td> \n",
       "        <td id=\"T_e208e3e4_cf87_11e9_b676_3ca82ab128d4row0_col1\" class=\"data row0 col1\" >0.257917</td> \n",
       "        <td id=\"T_e208e3e4_cf87_11e9_b676_3ca82ab128d4row0_col2\" class=\"data row0 col2\" >-0.349927</td> \n",
       "        <td id=\"T_e208e3e4_cf87_11e9_b676_3ca82ab128d4row0_col3\" class=\"data row0 col3\" >0.00133231</td> \n",
       "        <td id=\"T_e208e3e4_cf87_11e9_b676_3ca82ab128d4row0_col4\" class=\"data row0 col4\" >-0.0808867</td> \n",
       "        <td id=\"T_e208e3e4_cf87_11e9_b676_3ca82ab128d4row0_col5\" class=\"data row0 col5\" >-0.209945</td> \n",
       "        <td id=\"T_e208e3e4_cf87_11e9_b676_3ca82ab128d4row0_col6\" class=\"data row0 col6\" >-0.195982</td> \n",
       "        <td id=\"T_e208e3e4_cf87_11e9_b676_3ca82ab128d4row0_col7\" class=\"data row0 col7\" >-0.135928</td> \n",
       "        <td id=\"T_e208e3e4_cf87_11e9_b676_3ca82ab128d4row0_col8\" class=\"data row0 col8\" >0.0472163</td> \n",
       "    </tr>    <tr> \n",
       "        <th id=\"T_e208e3e4_cf87_11e9_b676_3ca82ab128d4level0_row1\" class=\"row_heading level0 row1\" >Distance_from_Residence_to_Work</th> \n",
       "        <td id=\"T_e208e3e4_cf87_11e9_b676_3ca82ab128d4row1_col0\" class=\"data row1 col0\" >0.257917</td> \n",
       "        <td id=\"T_e208e3e4_cf87_11e9_b676_3ca82ab128d4row1_col1\" class=\"data row1 col1\" >1</td> \n",
       "        <td id=\"T_e208e3e4_cf87_11e9_b676_3ca82ab128d4row1_col2\" class=\"data row1 col2\" >0.128497</td> \n",
       "        <td id=\"T_e208e3e4_cf87_11e9_b676_3ca82ab128d4row1_col3\" class=\"data row1 col3\" >-0.0786912</td> \n",
       "        <td id=\"T_e208e3e4_cf87_11e9_b676_3ca82ab128d4row1_col4\" class=\"data row1 col4\" >-0.0141823</td> \n",
       "        <td id=\"T_e208e3e4_cf87_11e9_b676_3ca82ab128d4row1_col5\" class=\"data row1 col5\" >-0.0466121</td> \n",
       "        <td id=\"T_e208e3e4_cf87_11e9_b676_3ca82ab128d4row1_col6\" class=\"data row1 col6\" >-0.357828</td> \n",
       "        <td id=\"T_e208e3e4_cf87_11e9_b676_3ca82ab128d4row1_col7\" class=\"data row1 col7\" >0.117728</td> \n",
       "        <td id=\"T_e208e3e4_cf87_11e9_b676_3ca82ab128d4row1_col8\" class=\"data row1 col8\" >-0.102967</td> \n",
       "    </tr>    <tr> \n",
       "        <th id=\"T_e208e3e4_cf87_11e9_b676_3ca82ab128d4level0_row2\" class=\"row_heading level0 row2\" >Service_time</th> \n",
       "        <td id=\"T_e208e3e4_cf87_11e9_b676_3ca82ab128d4row2_col0\" class=\"data row2 col0\" >-0.349927</td> \n",
       "        <td id=\"T_e208e3e4_cf87_11e9_b676_3ca82ab128d4row2_col1\" class=\"data row2 col1\" >0.128497</td> \n",
       "        <td id=\"T_e208e3e4_cf87_11e9_b676_3ca82ab128d4row2_col2\" class=\"data row2 col2\" >1</td> \n",
       "        <td id=\"T_e208e3e4_cf87_11e9_b676_3ca82ab128d4row2_col3\" class=\"data row2 col3\" >0.0134231</td> \n",
       "        <td id=\"T_e208e3e4_cf87_11e9_b676_3ca82ab128d4row2_col4\" class=\"data row2 col4\" >-0.00488155</td> \n",
       "        <td id=\"T_e208e3e4_cf87_11e9_b676_3ca82ab128d4row2_col5\" class=\"data row2 col5\" >0.454772</td> \n",
       "        <td id=\"T_e208e3e4_cf87_11e9_b676_3ca82ab128d4row2_col6\" class=\"data row2 col6\" >-0.0578259</td> \n",
       "        <td id=\"T_e208e3e4_cf87_11e9_b676_3ca82ab128d4row2_col7\" class=\"data row2 col7\" >0.502634</td> \n",
       "        <td id=\"T_e208e3e4_cf87_11e9_b676_3ca82ab128d4row2_col8\" class=\"data row2 col8\" >0.0165598</td> \n",
       "    </tr>    <tr> \n",
       "        <th id=\"T_e208e3e4_cf87_11e9_b676_3ca82ab128d4level0_row3\" class=\"row_heading level0 row3\" >Work_load_Average_day</th> \n",
       "        <td id=\"T_e208e3e4_cf87_11e9_b676_3ca82ab128d4row3_col0\" class=\"data row3 col0\" >0.00133231</td> \n",
       "        <td id=\"T_e208e3e4_cf87_11e9_b676_3ca82ab128d4row3_col1\" class=\"data row3 col1\" >-0.0786912</td> \n",
       "        <td id=\"T_e208e3e4_cf87_11e9_b676_3ca82ab128d4row3_col2\" class=\"data row3 col2\" >0.0134231</td> \n",
       "        <td id=\"T_e208e3e4_cf87_11e9_b676_3ca82ab128d4row3_col3\" class=\"data row3 col3\" >1</td> \n",
       "        <td id=\"T_e208e3e4_cf87_11e9_b676_3ca82ab128d4row3_col4\" class=\"data row3 col4\" >-0.0871998</td> \n",
       "        <td id=\"T_e208e3e4_cf87_11e9_b676_3ca82ab128d4row3_col5\" class=\"data row3 col5\" >-0.0303855</td> \n",
       "        <td id=\"T_e208e3e4_cf87_11e9_b676_3ca82ab128d4row3_col6\" class=\"data row3 col6\" >0.109154</td> \n",
       "        <td id=\"T_e208e3e4_cf87_11e9_b676_3ca82ab128d4row3_col7\" class=\"data row3 col7\" >-0.0748954</td> \n",
       "        <td id=\"T_e208e3e4_cf87_11e9_b676_3ca82ab128d4row3_col8\" class=\"data row3 col8\" >0.0279859</td> \n",
       "    </tr>    <tr> \n",
       "        <th id=\"T_e208e3e4_cf87_11e9_b676_3ca82ab128d4level0_row4\" class=\"row_heading level0 row4\" >Hit_target</th> \n",
       "        <td id=\"T_e208e3e4_cf87_11e9_b676_3ca82ab128d4row4_col0\" class=\"data row4 col0\" >-0.0808867</td> \n",
       "        <td id=\"T_e208e3e4_cf87_11e9_b676_3ca82ab128d4row4_col1\" class=\"data row4 col1\" >-0.0141823</td> \n",
       "        <td id=\"T_e208e3e4_cf87_11e9_b676_3ca82ab128d4row4_col2\" class=\"data row4 col2\" >-0.00488155</td> \n",
       "        <td id=\"T_e208e3e4_cf87_11e9_b676_3ca82ab128d4row4_col3\" class=\"data row4 col3\" >-0.0871998</td> \n",
       "        <td id=\"T_e208e3e4_cf87_11e9_b676_3ca82ab128d4row4_col4\" class=\"data row4 col4\" >1</td> \n",
       "        <td id=\"T_e208e3e4_cf87_11e9_b676_3ca82ab128d4row4_col5\" class=\"data row4 col5\" >-0.0448165</td> \n",
       "        <td id=\"T_e208e3e4_cf87_11e9_b676_3ca82ab128d4row4_col6\" class=\"data row4 col6\" >0.0887133</td> \n",
       "        <td id=\"T_e208e3e4_cf87_11e9_b676_3ca82ab128d4row4_col7\" class=\"data row4 col7\" >-0.0696561</td> \n",
       "        <td id=\"T_e208e3e4_cf87_11e9_b676_3ca82ab128d4row4_col8\" class=\"data row4 col8\" >0.0223112</td> \n",
       "    </tr>    <tr> \n",
       "        <th id=\"T_e208e3e4_cf87_11e9_b676_3ca82ab128d4level0_row5\" class=\"row_heading level0 row5\" >Weight</th> \n",
       "        <td id=\"T_e208e3e4_cf87_11e9_b676_3ca82ab128d4row5_col0\" class=\"data row5 col0\" >-0.209945</td> \n",
       "        <td id=\"T_e208e3e4_cf87_11e9_b676_3ca82ab128d4row5_col1\" class=\"data row5 col1\" >-0.0466121</td> \n",
       "        <td id=\"T_e208e3e4_cf87_11e9_b676_3ca82ab128d4row5_col2\" class=\"data row5 col2\" >0.454772</td> \n",
       "        <td id=\"T_e208e3e4_cf87_11e9_b676_3ca82ab128d4row5_col3\" class=\"data row5 col3\" >-0.0303855</td> \n",
       "        <td id=\"T_e208e3e4_cf87_11e9_b676_3ca82ab128d4row5_col4\" class=\"data row5 col4\" >-0.0448165</td> \n",
       "        <td id=\"T_e208e3e4_cf87_11e9_b676_3ca82ab128d4row5_col5\" class=\"data row5 col5\" >1</td> \n",
       "        <td id=\"T_e208e3e4_cf87_11e9_b676_3ca82ab128d4row5_col6\" class=\"data row5 col6\" >0.307546</td> \n",
       "        <td id=\"T_e208e3e4_cf87_11e9_b676_3ca82ab128d4row5_col7\" class=\"data row5 col7\" >0.90406</td> \n",
       "        <td id=\"T_e208e3e4_cf87_11e9_b676_3ca82ab128d4row5_col8\" class=\"data row5 col8\" >-0.00927527</td> \n",
       "    </tr>    <tr> \n",
       "        <th id=\"T_e208e3e4_cf87_11e9_b676_3ca82ab128d4level0_row6\" class=\"row_heading level0 row6\" >Height</th> \n",
       "        <td id=\"T_e208e3e4_cf87_11e9_b676_3ca82ab128d4row6_col0\" class=\"data row6 col0\" >-0.195982</td> \n",
       "        <td id=\"T_e208e3e4_cf87_11e9_b676_3ca82ab128d4row6_col1\" class=\"data row6 col1\" >-0.357828</td> \n",
       "        <td id=\"T_e208e3e4_cf87_11e9_b676_3ca82ab128d4row6_col2\" class=\"data row6 col2\" >-0.0578259</td> \n",
       "        <td id=\"T_e208e3e4_cf87_11e9_b676_3ca82ab128d4row6_col3\" class=\"data row6 col3\" >0.109154</td> \n",
       "        <td id=\"T_e208e3e4_cf87_11e9_b676_3ca82ab128d4row6_col4\" class=\"data row6 col4\" >0.0887133</td> \n",
       "        <td id=\"T_e208e3e4_cf87_11e9_b676_3ca82ab128d4row6_col5\" class=\"data row6 col5\" >0.307546</td> \n",
       "        <td id=\"T_e208e3e4_cf87_11e9_b676_3ca82ab128d4row6_col6\" class=\"data row6 col6\" >1</td> \n",
       "        <td id=\"T_e208e3e4_cf87_11e9_b676_3ca82ab128d4row6_col7\" class=\"data row6 col7\" >-0.127717</td> \n",
       "        <td id=\"T_e208e3e4_cf87_11e9_b676_3ca82ab128d4row6_col8\" class=\"data row6 col8\" >0.0947721</td> \n",
       "    </tr>    <tr> \n",
       "        <th id=\"T_e208e3e4_cf87_11e9_b676_3ca82ab128d4level0_row7\" class=\"row_heading level0 row7\" >Body_mass_index</th> \n",
       "        <td id=\"T_e208e3e4_cf87_11e9_b676_3ca82ab128d4row7_col0\" class=\"data row7 col0\" >-0.135928</td> \n",
       "        <td id=\"T_e208e3e4_cf87_11e9_b676_3ca82ab128d4row7_col1\" class=\"data row7 col1\" >0.117728</td> \n",
       "        <td id=\"T_e208e3e4_cf87_11e9_b676_3ca82ab128d4row7_col2\" class=\"data row7 col2\" >0.502634</td> \n",
       "        <td id=\"T_e208e3e4_cf87_11e9_b676_3ca82ab128d4row7_col3\" class=\"data row7 col3\" >-0.0748954</td> \n",
       "        <td id=\"T_e208e3e4_cf87_11e9_b676_3ca82ab128d4row7_col4\" class=\"data row7 col4\" >-0.0696561</td> \n",
       "        <td id=\"T_e208e3e4_cf87_11e9_b676_3ca82ab128d4row7_col5\" class=\"data row7 col5\" >0.90406</td> \n",
       "        <td id=\"T_e208e3e4_cf87_11e9_b676_3ca82ab128d4row7_col6\" class=\"data row7 col6\" >-0.127717</td> \n",
       "        <td id=\"T_e208e3e4_cf87_11e9_b676_3ca82ab128d4row7_col7\" class=\"data row7 col7\" >1</td> \n",
       "        <td id=\"T_e208e3e4_cf87_11e9_b676_3ca82ab128d4row7_col8\" class=\"data row7 col8\" >-0.0590835</td> \n",
       "    </tr>    <tr> \n",
       "        <th id=\"T_e208e3e4_cf87_11e9_b676_3ca82ab128d4level0_row8\" class=\"row_heading level0 row8\" >Absenteeism_time_in_hours</th> \n",
       "        <td id=\"T_e208e3e4_cf87_11e9_b676_3ca82ab128d4row8_col0\" class=\"data row8 col0\" >0.0472163</td> \n",
       "        <td id=\"T_e208e3e4_cf87_11e9_b676_3ca82ab128d4row8_col1\" class=\"data row8 col1\" >-0.102967</td> \n",
       "        <td id=\"T_e208e3e4_cf87_11e9_b676_3ca82ab128d4row8_col2\" class=\"data row8 col2\" >0.0165598</td> \n",
       "        <td id=\"T_e208e3e4_cf87_11e9_b676_3ca82ab128d4row8_col3\" class=\"data row8 col3\" >0.0279859</td> \n",
       "        <td id=\"T_e208e3e4_cf87_11e9_b676_3ca82ab128d4row8_col4\" class=\"data row8 col4\" >0.0223112</td> \n",
       "        <td id=\"T_e208e3e4_cf87_11e9_b676_3ca82ab128d4row8_col5\" class=\"data row8 col5\" >-0.00927527</td> \n",
       "        <td id=\"T_e208e3e4_cf87_11e9_b676_3ca82ab128d4row8_col6\" class=\"data row8 col6\" >0.0947721</td> \n",
       "        <td id=\"T_e208e3e4_cf87_11e9_b676_3ca82ab128d4row8_col7\" class=\"data row8 col7\" >-0.0590835</td> \n",
       "        <td id=\"T_e208e3e4_cf87_11e9_b676_3ca82ab128d4row8_col8\" class=\"data row8 col8\" >1</td> \n",
       "    </tr></tbody> \n",
       "</table> "
      ],
      "text/plain": [
       "<pandas.io.formats.style.Styler at 0x2adb8f52278>"
      ]
     },
     "execution_count": 113,
     "metadata": {},
     "output_type": "execute_result"
    }
   ],
   "source": [
    "#Feature Selection using Correlation, VIF, and Chi-Square test\n",
    "\n",
    "## 1) Correlation\n",
    "import seaborn as sns\n",
    "correlations = Data_num.corr()\n",
    "correlations\n",
    "#sns.heatmap(correlations, mask = np.zeros_like(correlations, dtype= np.bool), cmap=sns.diverging_palette(200, 12, as_cmap= True),\n",
    "#            square = True, ax =ax)\n",
    "correlations.style.background_gradient()"
   ]
  },
  {
   "cell_type": "code",
   "execution_count": 151,
   "metadata": {},
   "outputs": [
    {
     "data": {
      "text/html": [
       "<div>\n",
       "<style scoped>\n",
       "    .dataframe tbody tr th:only-of-type {\n",
       "        vertical-align: middle;\n",
       "    }\n",
       "\n",
       "    .dataframe tbody tr th {\n",
       "        vertical-align: top;\n",
       "    }\n",
       "\n",
       "    .dataframe thead th {\n",
       "        text-align: right;\n",
       "    }\n",
       "</style>\n",
       "<table border=\"1\" class=\"dataframe\">\n",
       "  <thead>\n",
       "    <tr style=\"text-align: right;\">\n",
       "      <th></th>\n",
       "      <th>Reason_for_absence</th>\n",
       "      <th>Month_of_absence</th>\n",
       "      <th>Day_of_the_week</th>\n",
       "      <th>Seasons</th>\n",
       "      <th>Disciplinary_failure</th>\n",
       "      <th>Education</th>\n",
       "      <th>Social_drinker</th>\n",
       "      <th>Social_smoker</th>\n",
       "    </tr>\n",
       "  </thead>\n",
       "  <tbody>\n",
       "    <tr>\n",
       "      <th>Reason_for_absence</th>\n",
       "      <td>0.000000e+00</td>\n",
       "      <td>4.925170e-19</td>\n",
       "      <td>0.058063</td>\n",
       "      <td>2.838194e-22</td>\n",
       "      <td>4.324537e-125</td>\n",
       "      <td>8.983660e-11</td>\n",
       "      <td>2.292921e-08</td>\n",
       "      <td>3.541072e-09</td>\n",
       "    </tr>\n",
       "    <tr>\n",
       "      <th>Month_of_absence</th>\n",
       "      <td>4.925170e-19</td>\n",
       "      <td>0.000000e+00</td>\n",
       "      <td>0.554457</td>\n",
       "      <td>0.000000e+00</td>\n",
       "      <td>2.042695e-04</td>\n",
       "      <td>1.326699e-02</td>\n",
       "      <td>9.479499e-03</td>\n",
       "      <td>2.333154e-02</td>\n",
       "    </tr>\n",
       "    <tr>\n",
       "      <th>Day_of_the_week</th>\n",
       "      <td>5.806286e-02</td>\n",
       "      <td>5.544573e-01</td>\n",
       "      <td>0.000000</td>\n",
       "      <td>1.953925e-01</td>\n",
       "      <td>2.976322e-01</td>\n",
       "      <td>5.928306e-01</td>\n",
       "      <td>6.325213e-01</td>\n",
       "      <td>8.073502e-01</td>\n",
       "    </tr>\n",
       "    <tr>\n",
       "      <th>Seasons</th>\n",
       "      <td>2.838194e-22</td>\n",
       "      <td>0.000000e+00</td>\n",
       "      <td>0.195393</td>\n",
       "      <td>0.000000e+00</td>\n",
       "      <td>7.817284e-05</td>\n",
       "      <td>9.018080e-02</td>\n",
       "      <td>1.291514e-01</td>\n",
       "      <td>7.879567e-02</td>\n",
       "    </tr>\n",
       "    <tr>\n",
       "      <th>Disciplinary_failure</th>\n",
       "      <td>4.324537e-125</td>\n",
       "      <td>2.042695e-04</td>\n",
       "      <td>0.297632</td>\n",
       "      <td>7.817284e-05</td>\n",
       "      <td>0.000000e+00</td>\n",
       "      <td>3.648447e-01</td>\n",
       "      <td>2.644425e-01</td>\n",
       "      <td>3.706029e-03</td>\n",
       "    </tr>\n",
       "    <tr>\n",
       "      <th>Education</th>\n",
       "      <td>8.983660e-11</td>\n",
       "      <td>1.326699e-02</td>\n",
       "      <td>0.592831</td>\n",
       "      <td>9.018080e-02</td>\n",
       "      <td>3.648447e-01</td>\n",
       "      <td>0.000000e+00</td>\n",
       "      <td>2.418696e-35</td>\n",
       "      <td>1.102812e-20</td>\n",
       "    </tr>\n",
       "    <tr>\n",
       "      <th>Social_drinker</th>\n",
       "      <td>2.292921e-08</td>\n",
       "      <td>9.479499e-03</td>\n",
       "      <td>0.632521</td>\n",
       "      <td>1.291514e-01</td>\n",
       "      <td>2.644425e-01</td>\n",
       "      <td>2.418696e-35</td>\n",
       "      <td>0.000000e+00</td>\n",
       "      <td>5.824784e-03</td>\n",
       "    </tr>\n",
       "    <tr>\n",
       "      <th>Social_smoker</th>\n",
       "      <td>3.541072e-09</td>\n",
       "      <td>2.333154e-02</td>\n",
       "      <td>0.807350</td>\n",
       "      <td>7.879567e-02</td>\n",
       "      <td>3.706029e-03</td>\n",
       "      <td>1.102812e-20</td>\n",
       "      <td>5.824784e-03</td>\n",
       "      <td>0.000000e+00</td>\n",
       "    </tr>\n",
       "  </tbody>\n",
       "</table>\n",
       "</div>"
      ],
      "text/plain": [
       "                      Reason_for_absence  Month_of_absence  Day_of_the_week  \\\n",
       "Reason_for_absence          0.000000e+00      4.925170e-19         0.058063   \n",
       "Month_of_absence            4.925170e-19      0.000000e+00         0.554457   \n",
       "Day_of_the_week             5.806286e-02      5.544573e-01         0.000000   \n",
       "Seasons                     2.838194e-22      0.000000e+00         0.195393   \n",
       "Disciplinary_failure       4.324537e-125      2.042695e-04         0.297632   \n",
       "Education                   8.983660e-11      1.326699e-02         0.592831   \n",
       "Social_drinker              2.292921e-08      9.479499e-03         0.632521   \n",
       "Social_smoker               3.541072e-09      2.333154e-02         0.807350   \n",
       "\n",
       "                           Seasons  Disciplinary_failure     Education  \\\n",
       "Reason_for_absence    2.838194e-22         4.324537e-125  8.983660e-11   \n",
       "Month_of_absence      0.000000e+00          2.042695e-04  1.326699e-02   \n",
       "Day_of_the_week       1.953925e-01          2.976322e-01  5.928306e-01   \n",
       "Seasons               0.000000e+00          7.817284e-05  9.018080e-02   \n",
       "Disciplinary_failure  7.817284e-05          0.000000e+00  3.648447e-01   \n",
       "Education             9.018080e-02          3.648447e-01  0.000000e+00   \n",
       "Social_drinker        1.291514e-01          2.644425e-01  2.418696e-35   \n",
       "Social_smoker         7.879567e-02          3.706029e-03  1.102812e-20   \n",
       "\n",
       "                      Social_drinker  Social_smoker  \n",
       "Reason_for_absence      2.292921e-08   3.541072e-09  \n",
       "Month_of_absence        9.479499e-03   2.333154e-02  \n",
       "Day_of_the_week         6.325213e-01   8.073502e-01  \n",
       "Seasons                 1.291514e-01   7.879567e-02  \n",
       "Disciplinary_failure    2.644425e-01   3.706029e-03  \n",
       "Education               2.418696e-35   1.102812e-20  \n",
       "Social_drinker          0.000000e+00   5.824784e-03  \n",
       "Social_smoker           5.824784e-03   0.000000e+00  "
      ]
     },
     "execution_count": 151,
     "metadata": {},
     "output_type": "execute_result"
    }
   ],
   "source": [
    "## 2) Chi-square test\n",
    "\n",
    "from scipy.stats import chi2_contingency\n",
    "factors_paired_bin = [(i,j) for i in Data_cat.columns.values for j in Data_cat.columns.values] \n",
    "\n",
    "chi2_bin, p_values_bin =[], []\n",
    "\n",
    "for f in factors_paired_bin:\n",
    "    if f[0] != f[1]:\n",
    "             chitest_bin = chi2_contingency(pd.crosstab(Data_cat[f[0]], Data_cat[f[1]]))   \n",
    "             chi2_bin.append(chitest_bin[0])\n",
    "             p_values_bin.append(chitest_bin[1])\n",
    "            \n",
    "    else:      \n",
    "             chi2_bin.append(0)\n",
    "             p_values_bin.append(0)\n",
    "\n",
    "chi2_bin = np.array(chi2_bin).reshape((8,8))\n",
    "chi2_df_bin = pd.DataFrame(chi2_bin, index=Data_cat.columns.values, columns=Data_cat.columns.values)\n",
    "p_values_bin = np.array(p_values_bin).reshape((8,8)) # shaping it as a matrix\n",
    "p_values_bin = pd.DataFrame(p_values_bin, index=Data_cat.columns.values, columns=Data_cat.columns.values)\n",
    "p_values_bin"
   ]
  },
  {
   "cell_type": "code",
   "execution_count": 7,
   "metadata": {},
   "outputs": [],
   "source": [
    "cnames_v = ['Distance_from_Residence_to_Work', 'Service_time','Age', 'Work_load_Average_day', 'Transportation_expense',\n",
    "       'Hit_target','Son','Pet','Weight','Height','Body_mass_index','Absenteeism_time_in_hours']"
   ]
  },
  {
   "cell_type": "code",
   "execution_count": 214,
   "metadata": {},
   "outputs": [
    {
     "data": {
      "text/plain": [
       "const                              23420.905934\n",
       "Distance_from_Residence_to_Work        1.681130\n",
       "Service_time                           3.371883\n",
       "Age                                    2.424660\n",
       "Work_load_Average_day                  1.049937\n",
       "Transportation_expense                 1.597151\n",
       "Hit_target                             1.043096\n",
       "Son                                    1.255561\n",
       "Pet                                    1.580640\n",
       "Weight                               157.814366\n",
       "Height                                28.786233\n",
       "Body_mass_index                      147.832865\n",
       "Absenteeism_time_in_hours              1.048464\n",
       "dtype: float64"
      ]
     },
     "execution_count": 214,
     "metadata": {},
     "output_type": "execute_result"
    }
   ],
   "source": [
    "#VIF before dropping variable any variable\n",
    "from statsmodels.stats.outliers_influence import variance_inflation_factor as vf             \n",
    "from statsmodels.tools.tools import add_constant\n",
    "EmpAbs_data=EmpAbs_data.dropna()\n",
    "numeric_df_v = add_constant(EmpAbs_data[cnames_v])\n",
    "vif_v = pd.Series([vf(numeric_df_v.values, i) for i in range(numeric_df_v.shape[1])], \n",
    "                 index = numeric_df_v.columns)\n",
    "vif_v"
   ]
  },
  {
   "cell_type": "code",
   "execution_count": 8,
   "metadata": {},
   "outputs": [],
   "source": [
    "cnames = ['Distance_from_Residence_to_Work', 'Service_time','Age','Work_load_Average_day', 'Transportation_expense',\n",
    "       'Hit_target','Son','Pet','Weight', 'Height','Absenteeism_time_in_hours']"
   ]
  },
  {
   "cell_type": "code",
   "execution_count": 15,
   "metadata": {},
   "outputs": [],
   "source": [
    "catnames = list(set(Data.columns) - set(cnames_v))"
   ]
  },
  {
   "cell_type": "code",
   "execution_count": 215,
   "metadata": {},
   "outputs": [
    {
     "data": {
      "text/plain": [
       "const                              1844.786325\n",
       "Distance_from_Residence_to_Work       1.600629\n",
       "Service_time                          3.240114\n",
       "Age                                   2.306970\n",
       "Work_load_Average_day                 1.048436\n",
       "Transportation_expense                1.591382\n",
       "Hit_target                            1.042957\n",
       "Son                                   1.251408\n",
       "Pet                                   1.509672\n",
       "Weight                                1.645911\n",
       "Height                                1.484519\n",
       "Absenteeism_time_in_hours             1.046549\n",
       "dtype: float64"
      ]
     },
     "execution_count": 215,
     "metadata": {},
     "output_type": "execute_result"
    }
   ],
   "source": [
    "#VIF after dropping Body mass index variable\n",
    "numeric_Data = add_constant(EmpAbs_data[cnames])\n",
    "vif = pd.Series([vf(numeric_Data.values, i) for i in range(numeric_Data.shape[1])], \n",
    "                 index = numeric_Data.columns)\n",
    "vif"
   ]
  },
  {
   "cell_type": "code",
   "execution_count": 9,
   "metadata": {},
   "outputs": [],
   "source": [
    "#Dropping redundant Features, and NAs from Target variable\n",
    "Data = Data.drop(['Body_mass_index'], axis=1)\n",
    "Data = Data.drop(Data[Data['Absenteeism_time_in_hours'].isnull()].index, axis=0)"
   ]
  },
  {
   "cell_type": "code",
   "execution_count": 10,
   "metadata": {},
   "outputs": [],
   "source": [
    "#Marking cells as NA containing months of absence and reason of absence equal to zero\n",
    "Data.loc[Data['Reason_for_absence'] == 0,'Reason_for_absence'] = np.nan\n",
    "Data.loc[Data['Month_of_absence'] == 0,'Month_of_absence'] = np.nan"
   ]
  },
  {
   "cell_type": "code",
   "execution_count": 11,
   "metadata": {},
   "outputs": [
    {
     "data": {
      "text/html": [
       "<div>\n",
       "<style scoped>\n",
       "    .dataframe tbody tr th:only-of-type {\n",
       "        vertical-align: middle;\n",
       "    }\n",
       "\n",
       "    .dataframe tbody tr th {\n",
       "        vertical-align: top;\n",
       "    }\n",
       "\n",
       "    .dataframe thead th {\n",
       "        text-align: right;\n",
       "    }\n",
       "</style>\n",
       "<table border=\"1\" class=\"dataframe\">\n",
       "  <thead>\n",
       "    <tr style=\"text-align: right;\">\n",
       "      <th></th>\n",
       "      <th>0</th>\n",
       "    </tr>\n",
       "  </thead>\n",
       "  <tbody>\n",
       "    <tr>\n",
       "      <th>ID</th>\n",
       "      <td>0</td>\n",
       "    </tr>\n",
       "    <tr>\n",
       "      <th>Reason_for_absence</th>\n",
       "      <td>39</td>\n",
       "    </tr>\n",
       "    <tr>\n",
       "      <th>Month_of_absence</th>\n",
       "      <td>4</td>\n",
       "    </tr>\n",
       "    <tr>\n",
       "      <th>Day_of_the_week</th>\n",
       "      <td>0</td>\n",
       "    </tr>\n",
       "    <tr>\n",
       "      <th>Seasons</th>\n",
       "      <td>0</td>\n",
       "    </tr>\n",
       "    <tr>\n",
       "      <th>Transportation_expense</th>\n",
       "      <td>6</td>\n",
       "    </tr>\n",
       "    <tr>\n",
       "      <th>Distance_from_Residence_to_Work</th>\n",
       "      <td>3</td>\n",
       "    </tr>\n",
       "    <tr>\n",
       "      <th>Service_time</th>\n",
       "      <td>3</td>\n",
       "    </tr>\n",
       "    <tr>\n",
       "      <th>Age</th>\n",
       "      <td>2</td>\n",
       "    </tr>\n",
       "    <tr>\n",
       "      <th>Work_load_Average_day</th>\n",
       "      <td>8</td>\n",
       "    </tr>\n",
       "    <tr>\n",
       "      <th>Hit_target</th>\n",
       "      <td>6</td>\n",
       "    </tr>\n",
       "    <tr>\n",
       "      <th>Disciplinary_failure</th>\n",
       "      <td>5</td>\n",
       "    </tr>\n",
       "    <tr>\n",
       "      <th>Education</th>\n",
       "      <td>10</td>\n",
       "    </tr>\n",
       "    <tr>\n",
       "      <th>Son</th>\n",
       "      <td>6</td>\n",
       "    </tr>\n",
       "    <tr>\n",
       "      <th>Social_drinker</th>\n",
       "      <td>3</td>\n",
       "    </tr>\n",
       "    <tr>\n",
       "      <th>Social_smoker</th>\n",
       "      <td>4</td>\n",
       "    </tr>\n",
       "    <tr>\n",
       "      <th>Pet</th>\n",
       "      <td>2</td>\n",
       "    </tr>\n",
       "    <tr>\n",
       "      <th>Weight</th>\n",
       "      <td>1</td>\n",
       "    </tr>\n",
       "    <tr>\n",
       "      <th>Height</th>\n",
       "      <td>14</td>\n",
       "    </tr>\n",
       "    <tr>\n",
       "      <th>Absenteeism_time_in_hours</th>\n",
       "      <td>0</td>\n",
       "    </tr>\n",
       "  </tbody>\n",
       "</table>\n",
       "</div>"
      ],
      "text/plain": [
       "                                  0\n",
       "ID                                0\n",
       "Reason_for_absence               39\n",
       "Month_of_absence                  4\n",
       "Day_of_the_week                   0\n",
       "Seasons                           0\n",
       "Transportation_expense            6\n",
       "Distance_from_Residence_to_Work   3\n",
       "Service_time                      3\n",
       "Age                               2\n",
       "Work_load_Average_day             8\n",
       "Hit_target                        6\n",
       "Disciplinary_failure              5\n",
       "Education                        10\n",
       "Son                               6\n",
       "Social_drinker                    3\n",
       "Social_smoker                     4\n",
       "Pet                               2\n",
       "Weight                            1\n",
       "Height                           14\n",
       "Absenteeism_time_in_hours         0"
      ]
     },
     "execution_count": 11,
     "metadata": {},
     "output_type": "execute_result"
    }
   ],
   "source": [
    "missing_val1 = pd.DataFrame(Data.isnull().sum())\n",
    "missing_val1"
   ]
  },
  {
   "cell_type": "code",
   "execution_count": null,
   "metadata": {},
   "outputs": [],
   "source": [
    "Data2 = Data[Data.isnull().any(axis=1)]\n",
    "Data2"
   ]
  },
  {
   "cell_type": "markdown",
   "metadata": {},
   "source": [
    "# Imputing missing values after feature selection"
   ]
  },
  {
   "cell_type": "code",
   "execution_count": 12,
   "metadata": {},
   "outputs": [],
   "source": [
    "#Imputing Numerical variables with mean method\n",
    "for i in cnames:\n",
    "    Data[i] = Data[i].fillna(Data[i].mean())\n",
    "    "
   ]
  },
  {
   "cell_type": "code",
   "execution_count": 16,
   "metadata": {},
   "outputs": [],
   "source": [
    "#Imputing Categorical variables with Mode Nethod\n",
    "for i in catnames:\n",
    "    Data[i] = Data[i].fillna(Data[i].mode().iloc[0])"
   ]
  },
  {
   "cell_type": "code",
   "execution_count": 17,
   "metadata": {},
   "outputs": [
    {
     "data": {
      "text/plain": [
       "['Day_of_the_week',\n",
       " 'Disciplinary_failure',\n",
       " 'Social_smoker',\n",
       " 'Seasons',\n",
       " 'Reason_for_absence',\n",
       " 'Month_of_absence',\n",
       " 'Education',\n",
       " 'Social_drinker',\n",
       " 'ID']"
      ]
     },
     "execution_count": 17,
     "metadata": {},
     "output_type": "execute_result"
    }
   ],
   "source": [
    "catnames"
   ]
  },
  {
   "cell_type": "code",
   "execution_count": 18,
   "metadata": {
    "scrolled": true
   },
   "outputs": [
    {
     "data": {
      "text/html": [
       "<div>\n",
       "<style scoped>\n",
       "    .dataframe tbody tr th:only-of-type {\n",
       "        vertical-align: middle;\n",
       "    }\n",
       "\n",
       "    .dataframe tbody tr th {\n",
       "        vertical-align: top;\n",
       "    }\n",
       "\n",
       "    .dataframe thead th {\n",
       "        text-align: right;\n",
       "    }\n",
       "</style>\n",
       "<table border=\"1\" class=\"dataframe\">\n",
       "  <thead>\n",
       "    <tr style=\"text-align: right;\">\n",
       "      <th></th>\n",
       "      <th>0</th>\n",
       "    </tr>\n",
       "  </thead>\n",
       "  <tbody>\n",
       "    <tr>\n",
       "      <th>ID</th>\n",
       "      <td>0</td>\n",
       "    </tr>\n",
       "    <tr>\n",
       "      <th>Reason_for_absence</th>\n",
       "      <td>0</td>\n",
       "    </tr>\n",
       "    <tr>\n",
       "      <th>Month_of_absence</th>\n",
       "      <td>0</td>\n",
       "    </tr>\n",
       "    <tr>\n",
       "      <th>Day_of_the_week</th>\n",
       "      <td>0</td>\n",
       "    </tr>\n",
       "    <tr>\n",
       "      <th>Seasons</th>\n",
       "      <td>0</td>\n",
       "    </tr>\n",
       "    <tr>\n",
       "      <th>Transportation_expense</th>\n",
       "      <td>0</td>\n",
       "    </tr>\n",
       "    <tr>\n",
       "      <th>Distance_from_Residence_to_Work</th>\n",
       "      <td>0</td>\n",
       "    </tr>\n",
       "    <tr>\n",
       "      <th>Service_time</th>\n",
       "      <td>0</td>\n",
       "    </tr>\n",
       "    <tr>\n",
       "      <th>Age</th>\n",
       "      <td>0</td>\n",
       "    </tr>\n",
       "    <tr>\n",
       "      <th>Work_load_Average_day</th>\n",
       "      <td>0</td>\n",
       "    </tr>\n",
       "    <tr>\n",
       "      <th>Hit_target</th>\n",
       "      <td>0</td>\n",
       "    </tr>\n",
       "    <tr>\n",
       "      <th>Disciplinary_failure</th>\n",
       "      <td>0</td>\n",
       "    </tr>\n",
       "    <tr>\n",
       "      <th>Education</th>\n",
       "      <td>0</td>\n",
       "    </tr>\n",
       "    <tr>\n",
       "      <th>Son</th>\n",
       "      <td>0</td>\n",
       "    </tr>\n",
       "    <tr>\n",
       "      <th>Social_drinker</th>\n",
       "      <td>0</td>\n",
       "    </tr>\n",
       "    <tr>\n",
       "      <th>Social_smoker</th>\n",
       "      <td>0</td>\n",
       "    </tr>\n",
       "    <tr>\n",
       "      <th>Pet</th>\n",
       "      <td>0</td>\n",
       "    </tr>\n",
       "    <tr>\n",
       "      <th>Weight</th>\n",
       "      <td>0</td>\n",
       "    </tr>\n",
       "    <tr>\n",
       "      <th>Height</th>\n",
       "      <td>0</td>\n",
       "    </tr>\n",
       "    <tr>\n",
       "      <th>Absenteeism_time_in_hours</th>\n",
       "      <td>0</td>\n",
       "    </tr>\n",
       "  </tbody>\n",
       "</table>\n",
       "</div>"
      ],
      "text/plain": [
       "                                 0\n",
       "ID                               0\n",
       "Reason_for_absence               0\n",
       "Month_of_absence                 0\n",
       "Day_of_the_week                  0\n",
       "Seasons                          0\n",
       "Transportation_expense           0\n",
       "Distance_from_Residence_to_Work  0\n",
       "Service_time                     0\n",
       "Age                              0\n",
       "Work_load_Average_day            0\n",
       "Hit_target                       0\n",
       "Disciplinary_failure             0\n",
       "Education                        0\n",
       "Son                              0\n",
       "Social_drinker                   0\n",
       "Social_smoker                    0\n",
       "Pet                              0\n",
       "Weight                           0\n",
       "Height                           0\n",
       "Absenteeism_time_in_hours        0"
      ]
     },
     "execution_count": 18,
     "metadata": {},
     "output_type": "execute_result"
    }
   ],
   "source": [
    "missing_val1 = pd.DataFrame(Data.isnull().sum())\n",
    "missing_val1"
   ]
  },
  {
   "cell_type": "markdown",
   "metadata": {},
   "source": [
    "# Data Visualization"
   ]
  },
  {
   "cell_type": "code",
   "execution_count": 183,
   "metadata": {},
   "outputs": [
    {
     "data": {
      "image/png": "[encoded data removed]",
      "text/plain": [
       "<Figure size 1080x504 with 1 Axes>"
      ]
     },
     "metadata": {
      "needs_background": "light"
     },
     "output_type": "display_data"
    }
   ],
   "source": [
    "#Visualizations using barplots\n",
    "import matplotlib.pyplot as pyplt\n",
    "Data.groupby('ID')['Absenteeism_time_in_hours'].mean().plot(kind='bar',title='Mean of Absentism in hours per ID',figsize=(15,7))\n",
    "pyplt.show()"
   ]
  },
  {
   "cell_type": "code",
   "execution_count": 47,
   "metadata": {},
   "outputs": [
    {
     "data": {
      "image/png": "[encoded data removed]",
      "text/plain": [
       "<Figure size 1080x504 with 1 Axes>"
      ]
     },
     "metadata": {
      "needs_background": "light"
     },
     "output_type": "display_data"
    }
   ],
   "source": [
    "Data.groupby('Reason_for_absence')['Absenteeism_time_in_hours'].mean().plot(kind='bar',title='Mean of Absentism in hours for specific reason',figsize=(15,7))\n",
    "plt.show()"
   ]
  },
  {
   "cell_type": "code",
   "execution_count": 184,
   "metadata": {},
   "outputs": [
    {
     "data": {
      "image/png": "[encoded data removed]",
      "text/plain": [
       "<Figure size 1080x504 with 1 Axes>"
      ]
     },
     "metadata": {
      "needs_background": "light"
     },
     "output_type": "display_data"
    }
   ],
   "source": [
    "Data.groupby('Month_of_absence')['Absenteeism_time_in_hours'].mean().plot(kind='bar',title='Mean of Absentism in hours per month ',figsize=(15,7))\n",
    "plt.show()"
   ]
  },
  {
   "cell_type": "code",
   "execution_count": 185,
   "metadata": {},
   "outputs": [
    {
     "data": {
      "image/png": "[encoded data removed]",
      "text/plain": [
       "<Figure size 1080x504 with 1 Axes>"
      ]
     },
     "metadata": {
      "needs_background": "light"
     },
     "output_type": "display_data"
    }
   ],
   "source": [
    "Data.groupby('Age')['Absenteeism_time_in_hours'].mean().plot(kind='bar',title='Mean of Absentism in hours by age',figsize=(15,7))\n",
    "plt.show()\n",
    "#Data.to_csv(\"Data.csv\", index = False)"
   ]
  },
  {
   "cell_type": "code",
   "execution_count": 80,
   "metadata": {},
   "outputs": [
    {
     "data": {
      "image/png": "[encoded data removed]",
      "text/plain": [
       "<Figure size 1008x432 with 1 Axes>"
      ]
     },
     "metadata": {
      "needs_background": "light"
     },
     "output_type": "display_data"
    }
   ],
   "source": [
    "Data.groupby('Seasons')['Absenteeism_time_in_hours'].mean().plot(kind='bar',title='Mean Absentism in hours wrt seasons',figsize=(14,6))\n",
    "pyplot.show()"
   ]
  },
  {
   "cell_type": "code",
   "execution_count": 66,
   "metadata": {},
   "outputs": [
    {
     "data": {
      "image/png": "[encoded data removed]",
      "text/plain": [
       "<Figure size 1008x432 with 1 Axes>"
      ]
     },
     "metadata": {
      "needs_background": "light"
     },
     "output_type": "display_data"
    }
   ],
   "source": [
    "Data.groupby('Disciplinary_failure')['Absenteeism_time_in_hours'].mean().plot(kind='bar',title='Mean Absentism in hours wrt disciplinary failure',figsize=(14,6))\n",
    "plt.show()"
   ]
  },
  {
   "cell_type": "code",
   "execution_count": 67,
   "metadata": {},
   "outputs": [
    {
     "data": {
      "image/png": "[encoded data removed]",
      "text/plain": [
       "<Figure size 1008x432 with 1 Axes>"
      ]
     },
     "metadata": {
      "needs_background": "light"
     },
     "output_type": "display_data"
    }
   ],
   "source": [
    "Data.groupby('Reason_for_absence')['Absenteeism_time_in_hours'].mean().plot(kind='bar',title='Mean of Hours of Absentism for reason for absence ',figsize=(14,6))\n",
    "plt.show()"
   ]
  },
  {
   "cell_type": "code",
   "execution_count": 68,
   "metadata": {},
   "outputs": [
    {
     "data": {
      "image/png": "[encoded data removed]",
      "text/plain": [
       "<Figure size 1008x432 with 1 Axes>"
      ]
     },
     "metadata": {
      "needs_background": "light"
     },
     "output_type": "display_data"
    }
   ],
   "source": [
    "Data.groupby('Day_of_the_week')['Absenteeism_time_in_hours'].mean().plot(kind='bar',title='Mean of Hours of Absentism by day of the week',figsize=(14,6))\n",
    "plt.show()"
   ]
  },
  {
   "cell_type": "code",
   "execution_count": 71,
   "metadata": {},
   "outputs": [],
   "source": [
    "#loss\n",
    "Loss_data = pd.read_excel(\"Absenteeism_at_work_Project.xls\")"
   ]
  },
  {
   "cell_type": "code",
   "execution_count": 78,
   "metadata": {},
   "outputs": [
    {
     "data": {
      "image/png": "[encoded data removed]",
      "text/plain": [
       "<Figure size 1008x432 with 1 Axes>"
      ]
     },
     "metadata": {
      "needs_background": "light"
     },
     "output_type": "display_data"
    }
   ],
   "source": [
    "Loss_data.groupby('Month_of_absence')['loss'].mean().plot(kind='bar',title='Mean of loss per month',figsize=(14,6))\n",
    "pyplot.show()"
   ]
  },
  {
   "cell_type": "code",
   "execution_count": 133,
   "metadata": {},
   "outputs": [
    {
     "data": {
      "text/plain": [
       "Transportation_expense                AxesSubplot(0.125,0.799681;0.227941x0.0803191)\n",
       "Distance_from_Residence_to_Work    AxesSubplot(0.398529,0.799681;0.227941x0.0803191)\n",
       "Service_time                       AxesSubplot(0.672059,0.799681;0.227941x0.0803191)\n",
       "Work_load_Average_day                 AxesSubplot(0.125,0.703298;0.227941x0.0803191)\n",
       "Hit_target                         AxesSubplot(0.398529,0.703298;0.227941x0.0803191)\n",
       "Weight                             AxesSubplot(0.672059,0.703298;0.227941x0.0803191)\n",
       "Height                                AxesSubplot(0.125,0.606915;0.227941x0.0803191)\n",
       "Body_mass_index                    AxesSubplot(0.398529,0.606915;0.227941x0.0803191)\n",
       "Absenteeism_time_in_hours          AxesSubplot(0.672059,0.606915;0.227941x0.0803191)\n",
       "dtype: object"
      ]
     },
     "execution_count": 133,
     "metadata": {},
     "output_type": "execute_result"
    },
    {
     "data": {
      "image/png": "[encoded data removed]",
      "text/plain": [
       "<Figure size 1224x2808 with 24 Axes>"
      ]
     },
     "metadata": {
      "needs_background": "light"
     },
     "output_type": "display_data"
    }
   ],
   "source": [
    "#Boxplots of numeric varaibles before outlier removal\n",
    "Data_num.plot(kind='box', subplots=True,layout=(8,3), figsize=(17,39), fontsize=10)"
   ]
  },
  {
   "cell_type": "code",
   "execution_count": 134,
   "metadata": {},
   "outputs": [
    {
     "name": "stderr",
     "output_type": "stream",
     "text": [
      "C:\\Users\\npava\\Anaconda3\\lib\\site-packages\\sklearn\\ensemble\\weight_boosting.py:29: DeprecationWarning: numpy.core.umath_tests is an internal NumPy module and should not be imported. It will be removed in a future NumPy release.\n",
      "  from numpy.core.umath_tests import inner1d\n"
     ]
    },
    {
     "data": {
      "text/html": [
       "<div>\n",
       "<style scoped>\n",
       "    .dataframe tbody tr th:only-of-type {\n",
       "        vertical-align: middle;\n",
       "    }\n",
       "\n",
       "    .dataframe tbody tr th {\n",
       "        vertical-align: top;\n",
       "    }\n",
       "\n",
       "    .dataframe thead th {\n",
       "        text-align: right;\n",
       "    }\n",
       "</style>\n",
       "<table border=\"1\" class=\"dataframe\">\n",
       "  <thead>\n",
       "    <tr style=\"text-align: right;\">\n",
       "      <th></th>\n",
       "      <th>Feature</th>\n",
       "      <th>importance</th>\n",
       "    </tr>\n",
       "  </thead>\n",
       "  <tbody>\n",
       "    <tr>\n",
       "      <th>0</th>\n",
       "      <td>Reason_for_absence</td>\n",
       "      <td>19.516132</td>\n",
       "    </tr>\n",
       "    <tr>\n",
       "      <th>1</th>\n",
       "      <td>Day_of_the_week</td>\n",
       "      <td>13.728881</td>\n",
       "    </tr>\n",
       "    <tr>\n",
       "      <th>2</th>\n",
       "      <td>Month_of_absence</td>\n",
       "      <td>11.045311</td>\n",
       "    </tr>\n",
       "    <tr>\n",
       "      <th>3</th>\n",
       "      <td>Work_load_Average_day</td>\n",
       "      <td>9.399924</td>\n",
       "    </tr>\n",
       "    <tr>\n",
       "      <th>4</th>\n",
       "      <td>Seasons</td>\n",
       "      <td>6.337144</td>\n",
       "    </tr>\n",
       "    <tr>\n",
       "      <th>5</th>\n",
       "      <td>Hit_target</td>\n",
       "      <td>6.329666</td>\n",
       "    </tr>\n",
       "    <tr>\n",
       "      <th>6</th>\n",
       "      <td>Age</td>\n",
       "      <td>5.857114</td>\n",
       "    </tr>\n",
       "    <tr>\n",
       "      <th>7</th>\n",
       "      <td>Distance_from_Residence_to_Work</td>\n",
       "      <td>5.303442</td>\n",
       "    </tr>\n",
       "    <tr>\n",
       "      <th>8</th>\n",
       "      <td>ID</td>\n",
       "      <td>3.979104</td>\n",
       "    </tr>\n",
       "    <tr>\n",
       "      <th>9</th>\n",
       "      <td>Transportation_expense</td>\n",
       "      <td>3.112569</td>\n",
       "    </tr>\n",
       "    <tr>\n",
       "      <th>10</th>\n",
       "      <td>Son</td>\n",
       "      <td>2.889664</td>\n",
       "    </tr>\n",
       "    <tr>\n",
       "      <th>11</th>\n",
       "      <td>Weight</td>\n",
       "      <td>2.550942</td>\n",
       "    </tr>\n",
       "    <tr>\n",
       "      <th>12</th>\n",
       "      <td>Social_drinker</td>\n",
       "      <td>2.518310</td>\n",
       "    </tr>\n",
       "    <tr>\n",
       "      <th>13</th>\n",
       "      <td>Height</td>\n",
       "      <td>2.241974</td>\n",
       "    </tr>\n",
       "    <tr>\n",
       "      <th>14</th>\n",
       "      <td>Service_time</td>\n",
       "      <td>1.926689</td>\n",
       "    </tr>\n",
       "    <tr>\n",
       "      <th>15</th>\n",
       "      <td>Social_smoker</td>\n",
       "      <td>1.331889</td>\n",
       "    </tr>\n",
       "    <tr>\n",
       "      <th>16</th>\n",
       "      <td>Education</td>\n",
       "      <td>1.083850</td>\n",
       "    </tr>\n",
       "    <tr>\n",
       "      <th>17</th>\n",
       "      <td>Disciplinary_failure</td>\n",
       "      <td>0.847394</td>\n",
       "    </tr>\n",
       "  </tbody>\n",
       "</table>\n",
       "</div>"
      ],
      "text/plain": [
       "                            Feature  importance\n",
       "0                Reason_for_absence   19.516132\n",
       "1                   Day_of_the_week   13.728881\n",
       "2                  Month_of_absence   11.045311\n",
       "3             Work_load_Average_day    9.399924\n",
       "4                           Seasons    6.337144\n",
       "5                        Hit_target    6.329666\n",
       "6                               Age    5.857114\n",
       "7   Distance_from_Residence_to_Work    5.303442\n",
       "8                                ID    3.979104\n",
       "9            Transportation_expense    3.112569\n",
       "10                              Son    2.889664\n",
       "11                           Weight    2.550942\n",
       "12                   Social_drinker    2.518310\n",
       "13                           Height    2.241974\n",
       "14                     Service_time    1.926689\n",
       "15                    Social_smoker    1.331889\n",
       "16                        Education    1.083850\n",
       "17             Disciplinary_failure    0.847394"
      ]
     },
     "execution_count": 134,
     "metadata": {},
     "output_type": "execute_result"
    }
   ],
   "source": [
    "#Checking the variable importance with target variable using Extra Tree Regressor to get a feel of importance of variables\n",
    "from sklearn.ensemble import ExtraTreesRegressor\n",
    "reg = ExtraTreesRegressor(n_estimators=70)\n",
    "X = Data.drop(columns=('Absenteeism_time_in_hours'))\n",
    "y = Data['Absenteeism_time_in_hours']\n",
    "reg.fit(X, y)\n",
    "Var_importance = pd.DataFrame({'Feature': Data.drop(columns='Absenteeism_time_in_hours').columns,\n",
    "                         'importance':reg.feature_importances_*100})\n",
    "Var_importance.sort_values(by = 'importance', ascending=False).reset_index(drop = True)"
   ]
  },
  {
   "cell_type": "code",
   "execution_count": 19,
   "metadata": {},
   "outputs": [],
   "source": [
    "Data_outliers=Data.copy()"
   ]
  },
  {
   "cell_type": "code",
   "execution_count": 20,
   "metadata": {},
   "outputs": [
    {
     "name": "stdout",
     "output_type": "stream",
     "text": [
      "Distance_from_Residence_to_Work\n",
      "-35.0\n",
      "101.0\n",
      "Service_time\n",
      "-1.5\n",
      "26.5\n",
      "Age\n",
      "17.5\n",
      "53.5\n",
      "Work_load_Average_day\n",
      "183688.0\n",
      "345552.0\n",
      "Transportation_expense\n",
      "57.5\n",
      "381.5\n",
      "Hit_target\n",
      "87.0\n",
      "103.0\n",
      "Son\n",
      "-3.0\n",
      "5.0\n",
      "Pet\n",
      "-1.5\n",
      "2.5\n",
      "Weight\n",
      "39.0\n",
      "119.0\n",
      "Height\n",
      "164.5\n",
      "176.5\n",
      "Absenteeism_time_in_hours\n",
      "-7.0\n",
      "17.0\n"
     ]
    }
   ],
   "source": [
    "#Checking for outliers range and replacing it with NAs \n",
    "for i in cnames:\n",
    "    print(i)\n",
    "    q75, q25 = np.percentile(Data_outliers.loc[:,i], [75 ,25])\n",
    "    iqr = q75 - q25\n",
    "\n",
    "    min = q25 - (iqr*1.5)\n",
    "    max = q75 + (iqr*1.5)\n",
    "    print(min)\n",
    "    print(max)\n",
    "    Data_outliers.loc[Data_outliers.loc[:,i] < min, i] = np.nan\n",
    "    Data_outliers.loc[Data_outliers.loc[:,i] > max, i] = np.nan "
   ]
  },
  {
   "cell_type": "code",
   "execution_count": 21,
   "metadata": {},
   "outputs": [
    {
     "data": {
      "text/html": [
       "<div>\n",
       "<style scoped>\n",
       "    .dataframe tbody tr th:only-of-type {\n",
       "        vertical-align: middle;\n",
       "    }\n",
       "\n",
       "    .dataframe tbody tr th {\n",
       "        vertical-align: top;\n",
       "    }\n",
       "\n",
       "    .dataframe thead th {\n",
       "        text-align: right;\n",
       "    }\n",
       "</style>\n",
       "<table border=\"1\" class=\"dataframe\">\n",
       "  <thead>\n",
       "    <tr style=\"text-align: right;\">\n",
       "      <th></th>\n",
       "      <th>0</th>\n",
       "    </tr>\n",
       "  </thead>\n",
       "  <tbody>\n",
       "    <tr>\n",
       "      <th>ID</th>\n",
       "      <td>0</td>\n",
       "    </tr>\n",
       "    <tr>\n",
       "      <th>Reason_for_absence</th>\n",
       "      <td>0</td>\n",
       "    </tr>\n",
       "    <tr>\n",
       "      <th>Month_of_absence</th>\n",
       "      <td>0</td>\n",
       "    </tr>\n",
       "    <tr>\n",
       "      <th>Day_of_the_week</th>\n",
       "      <td>0</td>\n",
       "    </tr>\n",
       "    <tr>\n",
       "      <th>Seasons</th>\n",
       "      <td>0</td>\n",
       "    </tr>\n",
       "    <tr>\n",
       "      <th>Transportation_expense</th>\n",
       "      <td>3</td>\n",
       "    </tr>\n",
       "    <tr>\n",
       "      <th>Distance_from_Residence_to_Work</th>\n",
       "      <td>0</td>\n",
       "    </tr>\n",
       "    <tr>\n",
       "      <th>Service_time</th>\n",
       "      <td>5</td>\n",
       "    </tr>\n",
       "    <tr>\n",
       "      <th>Age</th>\n",
       "      <td>8</td>\n",
       "    </tr>\n",
       "    <tr>\n",
       "      <th>Work_load_Average_day</th>\n",
       "      <td>29</td>\n",
       "    </tr>\n",
       "    <tr>\n",
       "      <th>Hit_target</th>\n",
       "      <td>19</td>\n",
       "    </tr>\n",
       "    <tr>\n",
       "      <th>Disciplinary_failure</th>\n",
       "      <td>0</td>\n",
       "    </tr>\n",
       "    <tr>\n",
       "      <th>Education</th>\n",
       "      <td>0</td>\n",
       "    </tr>\n",
       "    <tr>\n",
       "      <th>Son</th>\n",
       "      <td>0</td>\n",
       "    </tr>\n",
       "    <tr>\n",
       "      <th>Social_drinker</th>\n",
       "      <td>0</td>\n",
       "    </tr>\n",
       "    <tr>\n",
       "      <th>Social_smoker</th>\n",
       "      <td>0</td>\n",
       "    </tr>\n",
       "    <tr>\n",
       "      <th>Pet</th>\n",
       "      <td>42</td>\n",
       "    </tr>\n",
       "    <tr>\n",
       "      <th>Weight</th>\n",
       "      <td>0</td>\n",
       "    </tr>\n",
       "    <tr>\n",
       "      <th>Height</th>\n",
       "      <td>114</td>\n",
       "    </tr>\n",
       "    <tr>\n",
       "      <th>Absenteeism_time_in_hours</th>\n",
       "      <td>43</td>\n",
       "    </tr>\n",
       "  </tbody>\n",
       "</table>\n",
       "</div>"
      ],
      "text/plain": [
       "                                   0\n",
       "ID                                 0\n",
       "Reason_for_absence                 0\n",
       "Month_of_absence                   0\n",
       "Day_of_the_week                    0\n",
       "Seasons                            0\n",
       "Transportation_expense             3\n",
       "Distance_from_Residence_to_Work    0\n",
       "Service_time                       5\n",
       "Age                                8\n",
       "Work_load_Average_day             29\n",
       "Hit_target                        19\n",
       "Disciplinary_failure               0\n",
       "Education                          0\n",
       "Son                                0\n",
       "Social_drinker                     0\n",
       "Social_smoker                      0\n",
       "Pet                               42\n",
       "Weight                             0\n",
       "Height                           114\n",
       "Absenteeism_time_in_hours         43"
      ]
     },
     "execution_count": 21,
     "metadata": {},
     "output_type": "execute_result"
    }
   ],
   "source": [
    "missing_val2 = pd.DataFrame(Data_outliers.isnull().sum())\n",
    "missing_val2"
   ]
  },
  {
   "cell_type": "code",
   "execution_count": 22,
   "metadata": {},
   "outputs": [],
   "source": [
    "cnames_outliers = ['Absenteeism_time_in_hours', 'Service_time','Age', 'Work_load_Average_day', 'Hit_target','Pet', 'Height','Transportation_expense']"
   ]
  },
  {
   "cell_type": "code",
   "execution_count": 23,
   "metadata": {},
   "outputs": [
    {
     "name": "stdout",
     "output_type": "stream",
     "text": [
      "Absenteeism_time_in_hours\n",
      "-7.0\n",
      "17.0\n",
      "Service_time\n",
      "-1.5\n",
      "26.5\n",
      "Age\n",
      "17.5\n",
      "53.5\n",
      "Work_load_Average_day\n",
      "183688.0\n",
      "345552.0\n",
      "Hit_target\n",
      "87.0\n",
      "103.0\n",
      "Pet\n",
      "-1.5\n",
      "2.5\n",
      "Height\n",
      "164.5\n",
      "176.5\n",
      "Transportation_expense\n",
      "57.5\n",
      "381.5\n"
     ]
    }
   ],
   "source": [
    "#Creating outliers only for Absenteeism per hour, and leaving other variables untouched\n",
    "for i in cnames_outliers:\n",
    "    print(i)\n",
    "    q75, q25 = np.percentile(Data.loc[:,i], [75 ,25])\n",
    "    iqr = q75 - q25\n",
    "\n",
    "    min = q25 - (iqr*1.5)\n",
    "    max = q75 + (iqr*1.5)\n",
    "    print(min)\n",
    "    print(max)\n",
    "    Data.loc[Data.loc[:,i] < min, i] = np.nan\n",
    "    Data.loc[Data.loc[:,i] > max, i] = np.nan "
   ]
  },
  {
   "cell_type": "code",
   "execution_count": 24,
   "metadata": {},
   "outputs": [
    {
     "data": {
      "text/html": [
       "<div>\n",
       "<style scoped>\n",
       "    .dataframe tbody tr th:only-of-type {\n",
       "        vertical-align: middle;\n",
       "    }\n",
       "\n",
       "    .dataframe tbody tr th {\n",
       "        vertical-align: top;\n",
       "    }\n",
       "\n",
       "    .dataframe thead th {\n",
       "        text-align: right;\n",
       "    }\n",
       "</style>\n",
       "<table border=\"1\" class=\"dataframe\">\n",
       "  <thead>\n",
       "    <tr style=\"text-align: right;\">\n",
       "      <th></th>\n",
       "      <th>0</th>\n",
       "    </tr>\n",
       "  </thead>\n",
       "  <tbody>\n",
       "    <tr>\n",
       "      <th>ID</th>\n",
       "      <td>0</td>\n",
       "    </tr>\n",
       "    <tr>\n",
       "      <th>Reason_for_absence</th>\n",
       "      <td>0</td>\n",
       "    </tr>\n",
       "    <tr>\n",
       "      <th>Month_of_absence</th>\n",
       "      <td>0</td>\n",
       "    </tr>\n",
       "    <tr>\n",
       "      <th>Day_of_the_week</th>\n",
       "      <td>0</td>\n",
       "    </tr>\n",
       "    <tr>\n",
       "      <th>Seasons</th>\n",
       "      <td>0</td>\n",
       "    </tr>\n",
       "    <tr>\n",
       "      <th>Transportation_expense</th>\n",
       "      <td>3</td>\n",
       "    </tr>\n",
       "    <tr>\n",
       "      <th>Distance_from_Residence_to_Work</th>\n",
       "      <td>0</td>\n",
       "    </tr>\n",
       "    <tr>\n",
       "      <th>Service_time</th>\n",
       "      <td>5</td>\n",
       "    </tr>\n",
       "    <tr>\n",
       "      <th>Age</th>\n",
       "      <td>8</td>\n",
       "    </tr>\n",
       "    <tr>\n",
       "      <th>Work_load_Average_day</th>\n",
       "      <td>29</td>\n",
       "    </tr>\n",
       "    <tr>\n",
       "      <th>Hit_target</th>\n",
       "      <td>19</td>\n",
       "    </tr>\n",
       "    <tr>\n",
       "      <th>Disciplinary_failure</th>\n",
       "      <td>0</td>\n",
       "    </tr>\n",
       "    <tr>\n",
       "      <th>Education</th>\n",
       "      <td>0</td>\n",
       "    </tr>\n",
       "    <tr>\n",
       "      <th>Son</th>\n",
       "      <td>0</td>\n",
       "    </tr>\n",
       "    <tr>\n",
       "      <th>Social_drinker</th>\n",
       "      <td>0</td>\n",
       "    </tr>\n",
       "    <tr>\n",
       "      <th>Social_smoker</th>\n",
       "      <td>0</td>\n",
       "    </tr>\n",
       "    <tr>\n",
       "      <th>Pet</th>\n",
       "      <td>42</td>\n",
       "    </tr>\n",
       "    <tr>\n",
       "      <th>Weight</th>\n",
       "      <td>0</td>\n",
       "    </tr>\n",
       "    <tr>\n",
       "      <th>Height</th>\n",
       "      <td>114</td>\n",
       "    </tr>\n",
       "    <tr>\n",
       "      <th>Absenteeism_time_in_hours</th>\n",
       "      <td>43</td>\n",
       "    </tr>\n",
       "  </tbody>\n",
       "</table>\n",
       "</div>"
      ],
      "text/plain": [
       "                                   0\n",
       "ID                                 0\n",
       "Reason_for_absence                 0\n",
       "Month_of_absence                   0\n",
       "Day_of_the_week                    0\n",
       "Seasons                            0\n",
       "Transportation_expense             3\n",
       "Distance_from_Residence_to_Work    0\n",
       "Service_time                       5\n",
       "Age                                8\n",
       "Work_load_Average_day             29\n",
       "Hit_target                        19\n",
       "Disciplinary_failure               0\n",
       "Education                          0\n",
       "Son                                0\n",
       "Social_drinker                     0\n",
       "Social_smoker                      0\n",
       "Pet                               42\n",
       "Weight                             0\n",
       "Height                           114\n",
       "Absenteeism_time_in_hours         43"
      ]
     },
     "execution_count": 24,
     "metadata": {},
     "output_type": "execute_result"
    }
   ],
   "source": [
    "missing_val3 = pd.DataFrame(Data.isnull().sum())\n",
    "missing_val3"
   ]
  },
  {
   "cell_type": "code",
   "execution_count": 25,
   "metadata": {},
   "outputs": [],
   "source": [
    "for i in cnames_outliers:\n",
    "    Data[i] = Data[i].fillna(Data[i].mean())"
   ]
  },
  {
   "cell_type": "code",
   "execution_count": 26,
   "metadata": {},
   "outputs": [],
   "source": [
    "for i in catnames:\n",
    "    Data.loc[:, i] = Data.loc[:, i].astype('category')\n",
    "\n",
    "\n",
    "Data.iloc[:, 0] = Data.iloc[:, 0].astype(object)"
   ]
  },
  {
   "cell_type": "code",
   "execution_count": 27,
   "metadata": {},
   "outputs": [],
   "source": [
    "Data_num=Data.select_dtypes(['float64'])\n",
    "Data_cat=Data.select_dtypes(['category'])\n",
    "Data_num = Data_num.reset_index(drop=True)\n",
    "Data_num.index += 1\n",
    "Data_cat = Data_cat.reset_index(drop=True)\n",
    "Data_cat.index += 1"
   ]
  },
  {
   "cell_type": "code",
   "execution_count": 70,
   "metadata": {},
   "outputs": [],
   "source": [
    "Data.to_csv(\"final.csv\", index=False)"
   ]
  },
  {
   "cell_type": "code",
   "execution_count": 29,
   "metadata": {},
   "outputs": [
    {
     "data": {
      "image/png": "[encoded data removed]",
      "text/plain": [
       "<Figure size 1224x864 with 12 Axes>"
      ]
     },
     "metadata": {
      "needs_background": "light"
     },
     "output_type": "display_data"
    }
   ],
   "source": [
    "#Histograms after outlier removal\n",
    "from matplotlib import pyplot\n",
    "Data_num.hist(figsize=(17,12))\n",
    "pyplot.show()"
   ]
  },
  {
   "cell_type": "code",
   "execution_count": 30,
   "metadata": {},
   "outputs": [
    {
     "data": {
      "image/png": "[encoded data removed]",
      "text/plain": [
       "<Figure size 1224x2808 with 24 Axes>"
      ]
     },
     "metadata": {
      "needs_background": "light"
     },
     "output_type": "display_data"
    }
   ],
   "source": [
    "#Boxplots of numeric varaibles after outlier removal\n",
    "Data_num.plot(kind='box', subplots=True,layout=(8,3), figsize=(17,39), fontsize=10)\n",
    "pyplot.show()"
   ]
  },
  {
   "cell_type": "code",
   "execution_count": 31,
   "metadata": {},
   "outputs": [],
   "source": [
    "cnames = ['Distance_from_Residence_to_Work', 'Service_time', 'Age', 'Work_load_Average_day', 'Transportation_expense',\n",
    "       'Hit_target', 'Son', 'Pet', 'Weight', 'Height']"
   ]
  },
  {
   "cell_type": "markdown",
   "metadata": {},
   "source": [
    "# Feature Scaling"
   ]
  },
  {
   "cell_type": "code",
   "execution_count": 32,
   "metadata": {},
   "outputs": [],
   "source": [
    "#Feature Scaling of all numeric varaibles except the target varaible\n",
    "for i in cnames:\n",
    "   \n",
    "    Data[i] = (Data[i] - Data[i].min())/(Data[i].max() - Data[i].min())"
   ]
  },
  {
   "cell_type": "code",
   "execution_count": 33,
   "metadata": {},
   "outputs": [
    {
     "name": "stderr",
     "output_type": "stream",
     "text": [
      "C:\\Users\\npava\\Anaconda3\\lib\\site-packages\\sklearn\\cross_validation.py:41: DeprecationWarning: This module was deprecated in version 0.18 in favor of the model_selection module into which all the refactored classes and functions are moved. Also note that the interface of the new CV iterators are different from that of this module. This module will be removed in 0.20.\n",
      "  \"This module will be removed in 0.20.\", DeprecationWarning)\n"
     ]
    }
   ],
   "source": [
    "from sklearn.cross_validation import train_test_split\n",
    "from random import *    \n",
    "from numpy import *"
   ]
  },
  {
   "cell_type": "code",
   "execution_count": 34,
   "metadata": {},
   "outputs": [
    {
     "name": "stderr",
     "output_type": "stream",
     "text": [
      "C:\\Users\\npava\\Anaconda3\\lib\\site-packages\\sklearn\\ensemble\\weight_boosting.py:29: DeprecationWarning: numpy.core.umath_tests is an internal NumPy module and should not be imported. It will be removed in a future NumPy release.\n",
      "  from numpy.core.umath_tests import inner1d\n"
     ]
    }
   ],
   "source": [
    "from sklearn.tree import DecisionTreeRegressor\n",
    "from sklearn.ensemble import RandomForestRegressor\n",
    "from sklearn.neighbors import KNeighborsRegressor\n",
    "from sklearn.linear_model import LinearRegression\n",
    "import statsmodels.api as sm"
   ]
  },
  {
   "cell_type": "code",
   "execution_count": 35,
   "metadata": {},
   "outputs": [],
   "source": [
    "Data_1=Data.copy()"
   ]
  },
  {
   "cell_type": "code",
   "execution_count": 36,
   "metadata": {},
   "outputs": [],
   "source": [
    "#Creating dummies for all categorical variables\n",
    "\n",
    "mylist = list(Data.select_dtypes(include=['category']).columns)\n",
    "dummies = pd.get_dummies(Data_1[mylist], prefix= mylist,drop_first=True)\n",
    "Data_1.drop(mylist, axis=1, inplace = True)\n",
    "Data_1 = pd.concat([Data_1,dummies], axis =1)"
   ]
  },
  {
   "cell_type": "code",
   "execution_count": 37,
   "metadata": {},
   "outputs": [],
   "source": [
    "#Creating train and test data\n",
    "random.seed(2)\n",
    "X = Data_1.drop(columns=['Absenteeism_time_in_hours','ID'])\n",
    "y = Data_1['Absenteeism_time_in_hours']\n",
    "X_train, X_test, y_train, y_test = train_test_split(X, y, test_size = 0.2, random_state = 2)"
   ]
  },
  {
   "cell_type": "code",
   "execution_count": 38,
   "metadata": {},
   "outputs": [],
   "source": [
    "X_train = X_train.reset_index(drop=True)\n",
    "X_train.index += 1\n",
    "X_test = X_test.reset_index(drop=True)\n",
    "X_test.index += 1\n",
    "y_train = y_train.reset_index(drop=True)\n",
    "y_train.index += 1\n",
    "y_test = y_test.reset_index(drop=True)\n",
    "y_test.index += 1"
   ]
  },
  {
   "cell_type": "markdown",
   "metadata": {},
   "source": [
    "# Model Deployment"
   ]
  },
  {
   "cell_type": "markdown",
   "metadata": {},
   "source": [
    "# Performing all the regressions in one go with their default parameters"
   ]
  },
  {
   "cell_type": "code",
   "execution_count": 45,
   "metadata": {},
   "outputs": [
    {
     "name": "stdout",
     "output_type": "stream",
     "text": [
      "==================================================\n",
      "DecisionTreeRegressor\n",
      "Test Data Results\n",
      "RMSE: 3.824541543184805\n",
      "Train Data Results\n",
      "RMSE: 0.25778147678248137\n",
      "==================================================\n",
      "==================================================\n",
      "RandomForestRegressor\n",
      "Test Data Results\n",
      "RMSE: 3.468767192562448\n",
      "Train Data Results\n",
      "RMSE: 1.0918574855806094\n",
      "==================================================\n",
      "==================================================\n",
      "AdaBoostRegressor\n",
      "Test Data Results\n",
      "RMSE: 3.4465859253981264\n",
      "Train Data Results\n",
      "RMSE: 2.5515389548918086\n",
      "==================================================\n",
      "==================================================\n",
      "GradientBoostingRegressor\n",
      "Test Data Results\n",
      "RMSE: 3.42379727095487\n",
      "Train Data Results\n",
      "RMSE: 1.8460071874090063\n",
      "==================================================\n",
      "==================================================\n",
      "ExtraTreesRegressor\n",
      "Test Data Results\n",
      "RMSE: 3.624585648204571\n",
      "Train Data Results\n",
      "RMSE: 0.25778147678248137\n",
      "==================================================\n",
      "==================================================\n",
      "LinearRegression\n",
      "Test Data Results\n",
      "RMSE: 3.4275532126609485\n",
      "Train Data Results\n",
      "RMSE: 2.2569432271523633\n",
      "==================================================\n",
      "==================================================\n",
      "ElasticNet\n",
      "Test Data Results\n",
      "RMSE: 4.017314770687356\n",
      "Train Data Results\n",
      "RMSE: 3.135733832376387\n",
      "==================================================\n",
      "==================================================\n",
      "SVR\n",
      "Test Data Results\n",
      "RMSE: 3.9241772751234167\n",
      "Train Data Results\n",
      "RMSE: 2.812744599370027\n",
      "==================================================\n",
      "==================================================\n",
      "KNeighborsRegressor\n",
      "Test Data Results\n",
      "RMSE: 3.565191880010028\n",
      "Train Data Results\n",
      "RMSE: 2.299086013817613\n",
      "==================================================\n"
     ]
    },
    {
     "name": "stderr",
     "output_type": "stream",
     "text": [
      "C:\\Users\\npava\\Anaconda3\\lib\\site-packages\\xgboost\\core.py:587: FutureWarning: Series.base is deprecated and will be removed in a future version\n",
      "  if getattr(data, 'base', None) is not None and \\\n"
     ]
    },
    {
     "name": "stdout",
     "output_type": "stream",
     "text": [
      "[23:40:56] WARNING: C:/Jenkins/workspace/xgboost-win64_release_0.90/src/objective/regression_obj.cu:152: reg:linear is now deprecated in favor of reg:squarederror.\n",
      "==================================================\n",
      "XGBRegressor\n",
      "Test Data Results\n",
      "RMSE: 3.41583277390409\n",
      "Train Data Results\n",
      "RMSE: 1.933906385656717\n",
      "==================================================\n"
     ]
    }
   ],
   "source": [
    "from sklearn.tree import DecisionTreeRegressor, ExtraTreeRegressor\n",
    "from sklearn.linear_model import LinearRegression, ElasticNet, Lars\n",
    "from sklearn.ensemble import AdaBoostRegressor, GradientBoostingRegressor, ExtraTreesRegressor, RandomForestRegressor\n",
    "from sklearn.metrics import mean_squared_error\n",
    "from sklearn.svm import SVR\n",
    "from sklearn.neighbors import KNeighborsRegressor\n",
    "from xgboost import XGBRegressor\n",
    "\n",
    "Regressors = [DecisionTreeRegressor(),  RandomForestRegressor(), AdaBoostRegressor(), GradientBoostingRegressor(), ExtraTreesRegressor(),\n",
    " LinearRegression(), ElasticNet(), SVR(), KNeighborsRegressor(),XGBRegressor()]\n",
    "\n",
    "\n",
    "cols=[\"Regressors\", \"MSE\"]\n",
    "app = pd.DataFrame(columns=cols)\n",
    "for rgr in Regressors:\n",
    "    rgr.fit(X_train, y_train)\n",
    "    name = rgr.__class__.__name__\n",
    "    \n",
    "    print(\"=\"*50)\n",
    "    print(name)\n",
    "    \n",
    "    print('Test Data Results')\n",
    "    train_predictions = rgr.predict(X_test)\n",
    "    mse = np.sqrt(mean_squared_error(y_test, train_predictions))\n",
    "    print(\"RMSE: {}\".format(mse))\n",
    "    print('Train Data Results')\n",
    "    act_predictions = rgr.predict(X_train)\n",
    "    mse_train = np.sqrt(mean_squared_error(y_train, act_predictions))\n",
    "    print(\"RMSE: {}\".format(mse_train))\n",
    "    \n",
    "    print(\"=\"*50)\n",
    "    reg_res = pd.DataFrame([[name, mse]], columns=cols)\n",
    "    app = app.append(reg_res)\n",
    "    \n"
   ]
  },
  {
   "cell_type": "code",
   "execution_count": 62,
   "metadata": {},
   "outputs": [
    {
     "data": {
      "image/png": "[encoded data removed]",
      "text/plain": [
       "<Figure size 432x288 with 1 Axes>"
      ]
     },
     "metadata": {
      "needs_background": "light"
     },
     "output_type": "display_data"
    }
   ],
   "source": [
    "#A plot indicating all regressions' RMSE values for easy comparison\n",
    "sn.set_color_codes(\"deep\")\n",
    "sn.barplot(x='MSE', y='Regressors', data=app, color=\"brown\")\n",
    "\n",
    "pyplot.xlabel('RMSE')\n",
    "pyplot.title('Regressors & RMSE')\n",
    "pyplot.show()"
   ]
  },
  {
   "cell_type": "code",
   "execution_count": 47,
   "metadata": {},
   "outputs": [
    {
     "data": {
      "text/plain": [
       "[<matplotlib.lines.Line2D at 0x2062d996438>]"
      ]
     },
     "execution_count": 47,
     "metadata": {},
     "output_type": "execute_result"
    },
    {
     "data": {
      "image/png": "[encoded data removed]",
      "text/plain": [
       "<Figure size 432x288 with 1 Axes>"
      ]
     },
     "metadata": {
      "needs_background": "light"
     },
     "output_type": "display_data"
    }
   ],
   "source": [
    "#Checking the number of nearest neighbours v/s RMSE for KNN\n",
    "\n",
    "KNN_model=KNeighborsRegressor().fit(X_train, y_train)\n",
    "estimators = np.arange(1, 41, 2)\n",
    "scores = []\n",
    "\n",
    "for n in estimators:\n",
    "    KNN_model.set_params(n_neighbors=n)\n",
    "    KNN=KNN_model.fit(X_train,y_train)\n",
    "    train_predictions_y = KNN.predict(X_test)\n",
    "    scores.append(np.sqrt(mean_squared_error(y_test, train_predictions_y)))\n",
    "\n",
    "pyplot.title(\" RMSE vs n_estimators\")\n",
    "pyplot.xlabel(\"n_estimator\")\n",
    "pyplot.ylabel(\"RMSE\")\n",
    "pyplot.plot(estimators, scores)"
   ]
  }
 ],
 "metadata": {
  "kernelspec": {
   "display_name": "Python 3",
   "language": "python",
   "name": "python3"
  },
  "language_info": {
   "codemirror_mode": {
    "name": "ipython",
    "version": 3
   },
   "file_extension": ".py",
   "mimetype": "text/x-python",
   "name": "python",
   "nbconvert_exporter": "python",
   "pygments_lexer": "ipython3",
   "version": "3.7.0"
  }
 },
 "nbformat": 4,
 "nbformat_minor": 2
}
